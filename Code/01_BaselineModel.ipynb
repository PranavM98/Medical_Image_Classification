{
  "nbformat": 4,
  "nbformat_minor": 0,
  "metadata": {
    "kernelspec": {
      "display_name": "Python 3",
      "language": "python",
      "name": "python3"
    },
    "language_info": {
      "codemirror_mode": {
        "name": "ipython",
        "version": 3
      },
      "file_extension": ".py",
      "mimetype": "text/x-python",
      "name": "python",
      "nbconvert_exporter": "python",
      "pygments_lexer": "ipython3",
      "version": "3.8.5"
    },
    "colab": {
      "name": "01_BaselineModel.ipynb",
      "provenance": [],
      "collapsed_sections": [],
      "machine_shape": "hm"
    },
    "accelerator": "GPU"
  },
  "cells": [
    {
      "cell_type": "markdown",
      "metadata": {
        "id": "lv6KVCwAfvM5"
      },
      "source": [
        "# Differential Data Augmentation Techniques for Medical Imaging Classification\n",
        "#### Baseline Model Notebook"
      ]
    },
    {
      "cell_type": "markdown",
      "metadata": {
        "id": "EsEcf1Y5f5CV"
      },
      "source": [
        "## Import Packages"
      ]
    },
    {
      "cell_type": "code",
      "metadata": {
        "id": "CCo1efWtbIKq"
      },
      "source": [
        "import torch\n",
        "import torchvision\n",
        "import numpy as np\n",
        "import matplotlib.pyplot as plt\n",
        "import torch.nn as nn\n",
        "import torch.nn.functional as F\n",
        "from torchvision.datasets import CIFAR10\n",
        "from torchvision.transforms import ToTensor\n",
        "from torchvision.utils import make_grid\n",
        "from torch.utils.data.dataloader import DataLoader, Dataset\n",
        "from torch.utils.data import random_split, TensorDataset, DataLoader\n",
        "%matplotlib inline\n",
        "from torchvision import transforms\n",
        "from torchvision.utils import save_image\n",
        "import torch.optim as optim\n",
        "from sklearn.model_selection import train_test_split\n",
        "import pandas as pd\n",
        "from PIL import Image\n",
        "\n",
        "# Imports for plotting\n",
        "from matplotlib import pyplot as plt\n",
        "from sklearn.metrics import precision_recall_curve\n",
        "\n",
        "# Imports for Loading Data\n",
        "import tensorflow as tf\n",
        "import cv2\n",
        "\n",
        "# Imports for Model Validations\n",
        "from sklearn.metrics import accuracy_score, precision_score, roc_curve\n",
        "from sklearn.metrics import recall_score, f1_score, confusion_matrix, roc_auc_score\n",
        "\n",
        "# Import for dumping out model results\n",
        "from google.colab import files"
      ],
      "execution_count": 2,
      "outputs": []
    },
    {
      "cell_type": "markdown",
      "metadata": {
        "id": "USMjXdr7bsOM"
      },
      "source": [
        "# Data Wranging"
      ]
    },
    {
      "cell_type": "code",
      "metadata": {
        "id": "yvAXh5phcLsc"
      },
      "source": [
        "images=[]\n",
        "labels=[]\n",
        "feature_dictionary = {\n",
        "    'label': tf.io.FixedLenFeature([], tf.int64),\n",
        "    'label_normal': tf.io.FixedLenFeature([], tf.int64),\n",
        "    'image': tf.io.FixedLenFeature([], tf.string)\n",
        "    }"
      ],
      "execution_count": 3,
      "outputs": []
    },
    {
      "cell_type": "code",
      "metadata": {
        "id": "Gxhb_dB4cMqx"
      },
      "source": [
        "def _parse_function(example, feature_dictionary=feature_dictionary):\n",
        "    parsed_example = tf.io.parse_example(example, feature_dictionary)\n",
        "    return parsed_example\n",
        "\n",
        "def read_data(filename):\n",
        "    full_dataset = tf.data.TFRecordDataset(filename,num_parallel_reads=tf.data.experimental.AUTOTUNE)\n",
        "    full_dataset = full_dataset.shuffle(buffer_size=31000)\n",
        "    full_dataset = full_dataset.cache()\n",
        "    print(\"Size of Training Dataset: \", len(list(full_dataset)))\n",
        "    \n",
        "    feature_dictionary = {\n",
        "    'label': tf.io.FixedLenFeature([], tf.int64),\n",
        "    'label_normal': tf.io.FixedLenFeature([], tf.int64),\n",
        "    'image': tf.io.FixedLenFeature([], tf.string)\n",
        "    }   \n",
        "\n",
        "    full_dataset = full_dataset.map(_parse_function, num_parallel_calls=tf.data.experimental.AUTOTUNE)\n",
        "    print(full_dataset)\n",
        "    for image_features in full_dataset:\n",
        "        image = image_features['image'].numpy()\n",
        "        image = tf.io.decode_raw(image_features['image'], tf.uint8)\n",
        "        image = tf.reshape(image, [299, 299])        \n",
        "        image=image.numpy()\n",
        "        image=cv2.resize(image,(224,224))\n",
        "        image=cv2.merge([image,image,image])        \n",
        "        #plt.imshow(image)\n",
        "        images.append(image)\n",
        "        labels.append(image_features['label_normal'].numpy())"
      ],
      "execution_count": 4,
      "outputs": []
    },
    {
      "cell_type": "code",
      "metadata": {
        "colab": {
          "base_uri": "https://localhost:8080/"
        },
        "id": "Uq_OBcvscVJr",
        "outputId": "2ebff54d-7a3f-4a2b-96a9-dbe5c746b97b"
      },
      "source": [
        "from google.colab import drive\n",
        "drive.mount('/content/drive')"
      ],
      "execution_count": 5,
      "outputs": [
        {
          "output_type": "stream",
          "name": "stdout",
          "text": [
            "Mounted at /content/drive\n"
          ]
        }
      ]
    },
    {
      "cell_type": "code",
      "metadata": {
        "colab": {
          "base_uri": "https://localhost:8080/"
        },
        "id": "haaG-u3pcVOI",
        "outputId": "6778eb3e-dcf7-4425-f651-47085dee8c44"
      },
      "source": [
        "filenames=['/content/drive/MyDrive/Colab Notebooks/ECE661_FinalProject/Data/training10_0.tfrecords'\n",
        "         # ,'/content/drive/MyDrive/Colab Notebooks/ECE661_FinalProject/Data/training10_1.tfrecords'\n",
        "         # ,'/content/drive/MyDrive/Colab Notebooks/ECE661_FinalProject/Data/training10_2.tfrecords'\n",
        "         # ,'/content/drive/MyDrive/Colab Notebooks/ECE661_FinalProject/Data/training10_3.tfrecords'\n",
        "         # ,'/content/drive/MyDrive/Colab Notebooks/ECE661_FinalProject/Data/training10_4.tfrecords'\n",
        "         ]\n",
        "\n",
        "for file in filenames:\n",
        "    read_data(file)\n",
        "    \n",
        "print(len(images))\n",
        "print(len(labels))"
      ],
      "execution_count": 6,
      "outputs": [
        {
          "output_type": "stream",
          "name": "stdout",
          "text": [
            "Size of Training Dataset:  11177\n",
            "<ParallelMapDataset shapes: {image: (), label: (), label_normal: ()}, types: {image: tf.string, label: tf.int64, label_normal: tf.int64}>\n",
            "11177\n",
            "11177\n"
          ]
        }
      ]
    },
    {
      "cell_type": "markdown",
      "metadata": {
        "id": "p_7Inm7QgsCn"
      },
      "source": [
        "## Create Train-Val-Test Split "
      ]
    },
    {
      "cell_type": "markdown",
      "metadata": {
        "id": "SI9Rl9Zh7SwF"
      },
      "source": [
        "### Get 1000 True cases and 1000 False cases"
      ]
    },
    {
      "cell_type": "code",
      "metadata": {
        "colab": {
          "base_uri": "https://localhost:8080/"
        },
        "id": "gbIOOcrz3Lmb",
        "outputId": "b950860e-9336-4717-aac4-e87c27f7a326"
      },
      "source": [
        "Y = pd.DataFrame({'Y':labels})\n",
        "true_cases = list(Y[Y['Y'] == 1].copy().index)[0:1000]\n",
        "false_cases = list(Y[Y['Y'] == 0].copy().index)[0:1000]\n",
        "ind = true_cases + false_cases\n",
        "print(len(ind))"
      ],
      "execution_count": 7,
      "outputs": [
        {
          "output_type": "stream",
          "name": "stdout",
          "text": [
            "2000\n"
          ]
        }
      ]
    },
    {
      "cell_type": "code",
      "metadata": {
        "id": "TUqPe4io5eck"
      },
      "source": [
        "y = np.array([labels[i] for i in ind])\n",
        "X = np.array([images[i] for i in ind])"
      ],
      "execution_count": 8,
      "outputs": []
    },
    {
      "cell_type": "code",
      "metadata": {
        "id": "58p2I6Ijgwv9"
      },
      "source": [
        "x_train, x_test, y_train, y_test = train_test_split(X, y, test_size=0.2, stratify=y ,random_state=2021,shuffle=True)"
      ],
      "execution_count": 9,
      "outputs": []
    },
    {
      "cell_type": "code",
      "metadata": {
        "colab": {
          "base_uri": "https://localhost:8080/"
        },
        "id": "_bvEqL7xirfE",
        "outputId": "26e2cebe-49db-4ccc-8324-0c5ec40d2785"
      },
      "source": [
        "print('80-20 Split')\n",
        "print('X-Train Shape: ', x_train.shape)\n",
        "print('X-Test Shape: ', x_test.shape)"
      ],
      "execution_count": 10,
      "outputs": [
        {
          "output_type": "stream",
          "name": "stdout",
          "text": [
            "80-20 Split\n",
            "X-Train Shape:  (1600, 224, 224, 3)\n",
            "X-Test Shape:  (400, 224, 224, 3)\n"
          ]
        }
      ]
    },
    {
      "cell_type": "markdown",
      "metadata": {
        "id": "ejSSRc1yCR44"
      },
      "source": [
        "### Create Custom Tensor Dataset (To Allow for Transform data augmentation techniques)"
      ]
    },
    {
      "cell_type": "code",
      "metadata": {
        "id": "LAA43m---p6Q"
      },
      "source": [
        "class CustomTensorDataset(Dataset):\n",
        "    \"\"\"TensorDataset with support of transforms.\n",
        "    \"\"\"\n",
        "    def __init__(self, tensors, transform=None):\n",
        "        assert all(tensors[0].size(0) == tensor.size(0) for tensor in tensors)\n",
        "        self.tensors = tensors\n",
        "        self.transform = transform\n",
        "\n",
        "    def __getitem__(self, index):\n",
        "        x = self.tensors[0][index]\n",
        "\n",
        "        if self.transform:\n",
        "            x = self.transform(x)\n",
        "\n",
        "        y = self.tensors[1][index]\n",
        "\n",
        "        return x, y\n",
        "\n",
        "    def __len__(self):\n",
        "        return self.tensors[0].size(0)\n"
      ],
      "execution_count": 11,
      "outputs": []
    },
    {
      "cell_type": "markdown",
      "metadata": {
        "id": "MeGiJcp5BEg7"
      },
      "source": [
        "### Calculate Mean and Std For Transform Method"
      ]
    },
    {
      "cell_type": "code",
      "metadata": {
        "id": "QFQQcl990hNB"
      },
      "source": [
        "# nimages = 0\n",
        "# mean = 0.0\n",
        "# var = 0.0\n",
        "\n",
        "# for i_batch, batch_target in enumerate(train_dataloader):\n",
        "#     batch = batch_target[0]\n",
        "#     # Rearrange batch to be the shape of [B, C, W * H]\n",
        "#     batch = batch.view(batch.size(0), batch.size(1), -1)\n",
        "#     # Update total number of images\n",
        "#     nimages += batch.size(0)\n",
        "#     # Compute mean and std here\n",
        "#     mean += batch.mean(2).sum(0) \n",
        "#     var += batch.var(2).sum(0)\n",
        "\n",
        "# mean /= nimages\n",
        "# var /= nimages\n",
        "# std = torch.sqrt(var)\n",
        "\n",
        "# print(mean)\n",
        "# print(std)"
      ],
      "execution_count": 12,
      "outputs": []
    },
    {
      "cell_type": "markdown",
      "metadata": {
        "id": "_idndniW1kje"
      },
      "source": [
        "Normalization Metrics from running the above code snippet: \n",
        "\n",
        "Mean: tensor([105.7823, 105.7823, 105.7823])\n",
        "\n",
        "\n",
        "Std: tensor([26.6096, 26.6096, 26.6096])"
      ]
    },
    {
      "cell_type": "code",
      "metadata": {
        "id": "2Xvvl32LsYPX"
      },
      "source": [
        "# Define preprocessing\n",
        "trsfm = transforms.Compose([\n",
        "                            \n",
        "        #transforms.ToPILImage(),\n",
        "        transforms.ToTensor(),\n",
        "        #transforms.Normalize((105.7823, 105.7823, 105.7823), (26.6096, 26.6096, 26.6096))\n",
        "        ])\n",
        "\n",
        "# Train\n",
        "tensor_trainX = torch.Tensor(x_train) # transform to torch tensor\n",
        "tensor_trainY = torch.Tensor(y_train)\n",
        "tensor_trainX = tensor_trainX.permute(0, 3, 1, 2)\n",
        "\n",
        "# Test\n",
        "tensor_testX = torch.Tensor(x_test) # transform to torch tensor\n",
        "tensor_testY = torch.Tensor(y_test)\n",
        "tensor_testX = tensor_testX.permute(0, 3, 1, 2)"
      ],
      "execution_count": 13,
      "outputs": []
    },
    {
      "cell_type": "code",
      "metadata": {
        "id": "6NkPTeYzdosd"
      },
      "source": [
        "train_tensor = CustomTensorDataset(tensors=(tensor_trainX,tensor_trainY), transform=None) # create your datset\n",
        "train_dataloader = DataLoader(train_tensor, batch_size=64, shuffle=True) # create your dataloader\n",
        "\n",
        "test_tensor = CustomTensorDataset(tensors=(tensor_testX,tensor_testY), transform=None) # create your datset\n",
        "test_dataloader = DataLoader(test_tensor, batch_size=64, shuffle=False) # create your dataloader"
      ],
      "execution_count": 14,
      "outputs": []
    },
    {
      "cell_type": "markdown",
      "metadata": {
        "id": "l36qmFMWsxX5"
      },
      "source": [
        "## Create VGG16 model"
      ]
    },
    {
      "cell_type": "code",
      "metadata": {
        "id": "HZhbojQ6syWs"
      },
      "source": [
        "class VGG16(nn.Module):\n",
        "    def __init__(self):\n",
        "        super(VGG16, self).__init__()\n",
        "        self.conv1_1 = nn.Conv2d(in_channels=3, out_channels=64, kernel_size=3, padding=1)\n",
        "        self.conv1_2 = nn.Conv2d(in_channels=64, out_channels=64, kernel_size=3, padding=1)\n",
        "\n",
        "        self.conv2_1 = nn.Conv2d(in_channels=64, out_channels=128, kernel_size=3, padding=1)\n",
        "        self.conv2_2 = nn.Conv2d(in_channels=128, out_channels=128, kernel_size=3, padding=1)\n",
        "\n",
        "        self.conv3_1 = nn.Conv2d(in_channels=128, out_channels=256, kernel_size=3, padding=1)\n",
        "        self.conv3_2 = nn.Conv2d(in_channels=256, out_channels=256, kernel_size=3, padding=1)\n",
        "        self.conv3_3 = nn.Conv2d(in_channels=256, out_channels=256, kernel_size=3, padding=1)\n",
        "\n",
        "        self.conv4_1 = nn.Conv2d(in_channels=256, out_channels=512, kernel_size=3, padding=1)\n",
        "        self.conv4_2 = nn.Conv2d(in_channels=512, out_channels=512, kernel_size=3, padding=1)\n",
        "        self.conv4_3 = nn.Conv2d(in_channels=512, out_channels=512, kernel_size=3, padding=1)\n",
        "\n",
        "        self.conv5_1 = nn.Conv2d(in_channels=512, out_channels=512, kernel_size=3, padding=1)\n",
        "        self.conv5_2 = nn.Conv2d(in_channels=512, out_channels=512, kernel_size=3, padding=1)\n",
        "        self.conv5_3 = nn.Conv2d(in_channels=512, out_channels=512, kernel_size=3, padding=1)\n",
        "\n",
        "        self.maxpool = nn.MaxPool2d(kernel_size=2, stride=2)\n",
        "\n",
        "        self.fc1 = nn.Linear(25088, 4096)\n",
        "        self.fc2 = nn.Linear(4096, 1000)\n",
        "        self.fc3 = nn.Linear(1000, 2)\n",
        "\n",
        "    def forward(self, x):\n",
        "        x = F.relu(self.conv1_1(x))\n",
        "        x = F.relu(self.conv1_2(x))\n",
        "        x = self.maxpool(x)\n",
        "        x = F.relu(self.conv2_1(x))\n",
        "        x = F.relu(self.conv2_2(x))\n",
        "        x = self.maxpool(x)\n",
        "        x = F.relu(self.conv3_1(x))\n",
        "        x = F.relu(self.conv3_2(x))\n",
        "        x = F.relu(self.conv3_3(x))\n",
        "        x = self.maxpool(x)\n",
        "        x = F.relu(self.conv4_1(x))\n",
        "        x = F.relu(self.conv4_2(x))\n",
        "        x = F.relu(self.conv4_3(x))\n",
        "        x = self.maxpool(x)\n",
        "        x = F.relu(self.conv5_1(x))\n",
        "        x = F.relu(self.conv5_2(x))\n",
        "        x = F.relu(self.conv5_3(x))\n",
        "        x = self.maxpool(x)\n",
        "        x = x.reshape(x.shape[0], -1)\n",
        "        x = F.relu(self.fc1(x))\n",
        "        x = F.dropout(x, 0.5) #dropout was included to combat overfitting\n",
        "        x = F.relu(self.fc2(x))\n",
        "        x = F.dropout(x, 0.5)\n",
        "        x = self.fc3(x)\n",
        "        return x"
      ],
      "execution_count": 15,
      "outputs": []
    },
    {
      "cell_type": "markdown",
      "metadata": {
        "id": "Ks3lUzedbY_5"
      },
      "source": [
        "## Prepare model for Training"
      ]
    },
    {
      "cell_type": "code",
      "metadata": {
        "id": "CRevMW3ea2-0"
      },
      "source": [
        "device = torch.device('cuda' if torch.cuda.is_available() else 'cpu') #training with either cpu or cuda\n",
        "\n",
        "model = VGG16() #to compile the model\n",
        "model = model.to(device=device) #to send the model for training on either cuda or cpu\n",
        "\n",
        "## Loss and optimizer\n",
        "learning_rate = 1e-4 #I picked this because it seems to be the most used by experts\n",
        "l2_reg = 1e-7\n",
        "\n",
        "load_model = True\n",
        "criterion = nn.CrossEntropyLoss().to(device)\n",
        "optimizer = optim.Adam(model.parameters(), lr= learning_rate, weight_decay=l2_reg) #Adam seems to be the most popular for deep learning"
      ],
      "execution_count": 16,
      "outputs": []
    },
    {
      "cell_type": "markdown",
      "metadata": {
        "id": "93A_gWKubmG3"
      },
      "source": [
        "## Training"
      ]
    },
    {
      "cell_type": "code",
      "metadata": {
        "colab": {
          "base_uri": "https://localhost:8080/"
        },
        "id": "w84GaoSuN9yf",
        "outputId": "342f9e41-862f-4b56-8e5c-aae5d768c3d8"
      },
      "source": [
        "# some hyperparameters\n",
        "# total number of training epochs\n",
        "EPOCHS = 50\n",
        "\n",
        "# start the training/validation process\n",
        "# the process should take about 5 minutes on a GTX 1070-Ti\n",
        "# if the code is written efficiently.\n",
        "best_val_acc = 0\n",
        "train_accur = []\n",
        "test_accur = []\n",
        "\n",
        "best_predictions = []\n",
        "best_output_probs = []\n",
        "\n",
        "print(\"==> Training starts!\")\n",
        "print(\"=\"*50)\n",
        "for i in range(0, EPOCHS):\n",
        "\n",
        "    all_predictions = []\n",
        "    all_outputs = []    \n",
        "    #######################\n",
        "    # your code here\n",
        "    # switch to train mode\n",
        "    model.train()\n",
        "    #######################\n",
        "    \n",
        "    print(\"Epoch %d:\" %i)\n",
        "    # this help you compute the training accuracy\n",
        "    total_examples = 0\n",
        "    correct_examples = 0\n",
        "\n",
        "    train_loss = 0 # track training loss if you want\n",
        "    \n",
        "    # Train the model for 1 epoch.\n",
        "    for batch_idx, (inputs, targets) in enumerate(train_dataloader):\n",
        "        ####################################\n",
        "        # your code here\n",
        "        # copy inputs to device\n",
        "        # Convert to Pytorch (N, C, H, W)\n",
        "        #inputs = inputs.permute(0, 3, 1, 2)\n",
        "        images = inputs.to(device)\n",
        "        # print(batch_idx)\n",
        "        # print(images.shape)\n",
        "\n",
        "        targets = targets.to(device=device).long()\n",
        "        \n",
        "        # compute the output and loss\n",
        "        outputs = model(images)\n",
        "        loss = criterion(outputs, targets)\n",
        "        \n",
        "        # zero the gradient\n",
        "        optimizer.zero_grad()\n",
        "        \n",
        "        # backpropagation\n",
        "        loss.backward()\n",
        "        \n",
        "        # apply gradient and update the weights\n",
        "        optimizer.step()\n",
        "        _, predicted = torch.max(outputs, 1)\n",
        "        \n",
        "        # count the number of correctly predicted samples in the current batch\n",
        "        correct = predicted.eq(targets).sum()\n",
        "        \n",
        "        total_examples += targets.shape[0]\n",
        "        train_loss += loss\n",
        "        correct_examples += correct.item()\n",
        "        \n",
        "        ####################################\n",
        "    \n",
        "    avg_loss = train_loss / len(train_dataloader)\n",
        "    avg_acc = correct_examples / total_examples\n",
        "    print(\"Training loss: %.4f, Training accuracy: %.4f\" %(avg_loss, avg_acc))\n",
        "    train_accur.append(avg_acc)\n",
        "\n",
        "    # Validate on the validation dataset\n",
        "    #######################\n",
        "    # your code here\n",
        "    # switch to eval mode\n",
        "    model.eval()\n",
        "    \n",
        "    #######################\n",
        "\n",
        "    # this help you compute the validation accuracy\n",
        "    total_examples = 0\n",
        "    correct_examples = 0\n",
        "    \n",
        "    val_loss = 0 # again, track the validation loss if you want\n",
        "\n",
        "    # disable gradient during validation, which can save GPU memory\n",
        "    with torch.no_grad():\n",
        "        for batch_idx, (inputs, targets) in enumerate(test_dataloader):\n",
        "            ####################################\n",
        "            # your code here\n",
        "            # copy inputs to device\n",
        "            # Convert to Pytorch (N, C, H, W)\n",
        "            #inputs = inputs.permute(0, 3, 1, 2)\n",
        "            images = inputs.to(device)\n",
        "\n",
        "            targets = targets.to(device=device).long()\n",
        "            \n",
        "            # compute the output and loss\n",
        "            outputs = model(images)\n",
        "            all_outputs.append(outputs[:,1].cpu().numpy())\n",
        "\n",
        "\n",
        "            loss = criterion(outputs, targets)\n",
        "            \n",
        "            # count the number of correctly predicted samples in the current batch\n",
        "            _, predicted = torch.max(outputs, 1)\n",
        "            correct = predicted.eq(targets).sum()\n",
        "            all_predictions.append(predicted.cpu().numpy())\n",
        "\n",
        "            total_examples += targets.shape[0]\n",
        "            val_loss += loss\n",
        "            correct_examples += correct.item()\n",
        "            \n",
        "            ####################################\n",
        "    \n",
        "    avg_loss = val_loss / len(test_dataloader)\n",
        "    avg_acc = correct_examples / total_examples\n",
        "    print(\"Validation loss: %.4f, Validation accuracy: %.4f\" % (avg_loss, avg_acc))\n",
        "    test_accur.append(avg_acc)\n",
        "\n",
        "    # save the model checkpoint\n",
        "    if avg_acc > best_val_acc:\n",
        "        best_val_acc = avg_acc\n",
        "\n",
        "        all_predictions = np.concatenate(all_predictions).ravel()\n",
        "        best_predictions = all_predictions\n",
        "\n",
        "        all_outputs = np.concatenate(all_outputs).ravel()\n",
        "        best_output_probs = all_outputs\n",
        "\n",
        "        print(\"Saving ...\")\n",
        "        state = {'state_dict': model.state_dict(),\n",
        "                 'epoch': i,\n",
        "                 'lr': learning_rate}\n",
        "        torch.save(state,'baseline_model.pth')\n",
        "        \n",
        "    print('')\n",
        "\n",
        "print(\"=\"*50)\n",
        "print(f\"==> Optimization finished! Best validation accuracy: {best_val_acc:.4f}\")"
      ],
      "execution_count": 17,
      "outputs": [
        {
          "output_type": "stream",
          "name": "stdout",
          "text": [
            "==> Training starts!\n",
            "==================================================\n",
            "Epoch 0:\n",
            "Training loss: 0.6840, Training accuracy: 0.5075\n",
            "Validation loss: 0.6299, Validation accuracy: 0.6525\n",
            "Saving ...\n",
            "\n",
            "Epoch 1:\n",
            "Training loss: 0.6690, Training accuracy: 0.5881\n",
            "Validation loss: 0.6747, Validation accuracy: 0.5050\n",
            "\n",
            "Epoch 2:\n",
            "Training loss: 0.7786, Training accuracy: 0.5206\n",
            "Validation loss: 0.6750, Validation accuracy: 0.5975\n",
            "\n",
            "Epoch 3:\n",
            "Training loss: 0.6718, Training accuracy: 0.5050\n",
            "Validation loss: 0.6692, Validation accuracy: 0.5575\n",
            "\n",
            "Epoch 4:\n",
            "Training loss: 0.6715, Training accuracy: 0.6231\n",
            "Validation loss: 0.6020, Validation accuracy: 0.7225\n",
            "Saving ...\n",
            "\n",
            "Epoch 5:\n",
            "Training loss: 0.6558, Training accuracy: 0.5763\n",
            "Validation loss: 0.5871, Validation accuracy: 0.5175\n",
            "\n",
            "Epoch 6:\n",
            "Training loss: 0.5872, Training accuracy: 0.6525\n",
            "Validation loss: 0.5665, Validation accuracy: 0.6800\n",
            "\n",
            "Epoch 7:\n",
            "Training loss: 0.5734, Training accuracy: 0.6800\n",
            "Validation loss: 0.5165, Validation accuracy: 0.7025\n",
            "\n",
            "Epoch 8:\n",
            "Training loss: 0.5300, Training accuracy: 0.7294\n",
            "Validation loss: 0.4941, Validation accuracy: 0.7650\n",
            "Saving ...\n",
            "\n",
            "Epoch 9:\n",
            "Training loss: 0.5317, Training accuracy: 0.7137\n",
            "Validation loss: 0.5468, Validation accuracy: 0.7025\n",
            "\n",
            "Epoch 10:\n",
            "Training loss: 0.5323, Training accuracy: 0.7225\n",
            "Validation loss: 0.5048, Validation accuracy: 0.7650\n",
            "\n",
            "Epoch 11:\n",
            "Training loss: 0.5080, Training accuracy: 0.7581\n",
            "Validation loss: 0.6296, Validation accuracy: 0.6625\n",
            "\n",
            "Epoch 12:\n",
            "Training loss: 0.5500, Training accuracy: 0.6987\n",
            "Validation loss: 0.5224, Validation accuracy: 0.6950\n",
            "\n",
            "Epoch 13:\n",
            "Training loss: 0.4977, Training accuracy: 0.7662\n",
            "Validation loss: 0.4884, Validation accuracy: 0.7550\n",
            "\n",
            "Epoch 14:\n",
            "Training loss: 0.4726, Training accuracy: 0.7850\n",
            "Validation loss: 0.5270, Validation accuracy: 0.7375\n",
            "\n",
            "Epoch 15:\n",
            "Training loss: 0.4740, Training accuracy: 0.7719\n",
            "Validation loss: 0.4646, Validation accuracy: 0.7700\n",
            "Saving ...\n",
            "\n",
            "Epoch 16:\n",
            "Training loss: 0.4282, Training accuracy: 0.8006\n",
            "Validation loss: 0.5250, Validation accuracy: 0.7525\n",
            "\n",
            "Epoch 17:\n",
            "Training loss: 0.4243, Training accuracy: 0.8019\n",
            "Validation loss: 0.4436, Validation accuracy: 0.8000\n",
            "Saving ...\n",
            "\n",
            "Epoch 18:\n",
            "Training loss: 0.4369, Training accuracy: 0.7987\n",
            "Validation loss: 0.4741, Validation accuracy: 0.7700\n",
            "\n",
            "Epoch 19:\n",
            "Training loss: 0.4238, Training accuracy: 0.8087\n",
            "Validation loss: 0.4770, Validation accuracy: 0.8025\n",
            "Saving ...\n",
            "\n",
            "Epoch 20:\n",
            "Training loss: 0.4067, Training accuracy: 0.8113\n",
            "Validation loss: 0.4582, Validation accuracy: 0.7950\n",
            "\n",
            "Epoch 21:\n",
            "Training loss: 0.3932, Training accuracy: 0.8181\n",
            "Validation loss: 0.4451, Validation accuracy: 0.8075\n",
            "Saving ...\n",
            "\n",
            "Epoch 22:\n",
            "Training loss: 0.3923, Training accuracy: 0.8219\n",
            "Validation loss: 0.4748, Validation accuracy: 0.8050\n",
            "\n",
            "Epoch 23:\n",
            "Training loss: 0.4056, Training accuracy: 0.8037\n",
            "Validation loss: 0.4536, Validation accuracy: 0.8075\n",
            "\n",
            "Epoch 24:\n",
            "Training loss: 0.3949, Training accuracy: 0.8075\n",
            "Validation loss: 0.4534, Validation accuracy: 0.8100\n",
            "Saving ...\n",
            "\n",
            "Epoch 25:\n",
            "Training loss: 0.3810, Training accuracy: 0.8106\n",
            "Validation loss: 0.4407, Validation accuracy: 0.8125\n",
            "Saving ...\n",
            "\n",
            "Epoch 26:\n",
            "Training loss: 0.3580, Training accuracy: 0.8275\n",
            "Validation loss: 0.4669, Validation accuracy: 0.7675\n",
            "\n",
            "Epoch 27:\n",
            "Training loss: 0.3660, Training accuracy: 0.8325\n",
            "Validation loss: 0.4523, Validation accuracy: 0.8125\n",
            "\n",
            "Epoch 28:\n",
            "Training loss: 0.3684, Training accuracy: 0.8219\n",
            "Validation loss: 0.4305, Validation accuracy: 0.8100\n",
            "\n",
            "Epoch 29:\n",
            "Training loss: 0.3732, Training accuracy: 0.8325\n",
            "Validation loss: 0.4883, Validation accuracy: 0.8100\n",
            "\n",
            "Epoch 30:\n",
            "Training loss: 0.3681, Training accuracy: 0.8150\n",
            "Validation loss: 0.4428, Validation accuracy: 0.8075\n",
            "\n",
            "Epoch 31:\n",
            "Training loss: 0.3427, Training accuracy: 0.8381\n",
            "Validation loss: 0.4388, Validation accuracy: 0.8350\n",
            "Saving ...\n",
            "\n",
            "Epoch 32:\n",
            "Training loss: 0.3438, Training accuracy: 0.8406\n",
            "Validation loss: 0.4366, Validation accuracy: 0.8250\n",
            "\n",
            "Epoch 33:\n",
            "Training loss: 0.3316, Training accuracy: 0.8450\n",
            "Validation loss: 0.4250, Validation accuracy: 0.8275\n",
            "\n",
            "Epoch 34:\n",
            "Training loss: 0.3204, Training accuracy: 0.8506\n",
            "Validation loss: 0.5821, Validation accuracy: 0.7900\n",
            "\n",
            "Epoch 35:\n",
            "Training loss: 0.3967, Training accuracy: 0.8363\n",
            "Validation loss: 0.4418, Validation accuracy: 0.8175\n",
            "\n",
            "Epoch 36:\n",
            "Training loss: 0.3497, Training accuracy: 0.8331\n",
            "Validation loss: 0.4253, Validation accuracy: 0.8300\n",
            "\n",
            "Epoch 37:\n",
            "Training loss: 0.3565, Training accuracy: 0.8425\n",
            "Validation loss: 0.4152, Validation accuracy: 0.8200\n",
            "\n",
            "Epoch 38:\n",
            "Training loss: 0.3593, Training accuracy: 0.8275\n",
            "Validation loss: 0.4331, Validation accuracy: 0.7900\n",
            "\n",
            "Epoch 39:\n",
            "Training loss: 0.3322, Training accuracy: 0.8506\n",
            "Validation loss: 0.4296, Validation accuracy: 0.8175\n",
            "\n",
            "Epoch 40:\n",
            "Training loss: 0.3147, Training accuracy: 0.8444\n",
            "Validation loss: 0.4507, Validation accuracy: 0.8325\n",
            "\n",
            "Epoch 41:\n",
            "Training loss: 0.3189, Training accuracy: 0.8425\n",
            "Validation loss: 0.4175, Validation accuracy: 0.8300\n",
            "\n",
            "Epoch 42:\n",
            "Training loss: 0.3010, Training accuracy: 0.8575\n",
            "Validation loss: 0.5482, Validation accuracy: 0.7875\n",
            "\n",
            "Epoch 43:\n",
            "Training loss: 0.3538, Training accuracy: 0.8237\n",
            "Validation loss: 0.4263, Validation accuracy: 0.8425\n",
            "Saving ...\n",
            "\n",
            "Epoch 44:\n",
            "Training loss: 0.2988, Training accuracy: 0.8594\n",
            "Validation loss: 0.4803, Validation accuracy: 0.8275\n",
            "\n",
            "Epoch 45:\n",
            "Training loss: 0.2999, Training accuracy: 0.8519\n",
            "Validation loss: 0.5392, Validation accuracy: 0.8100\n",
            "\n",
            "Epoch 46:\n",
            "Training loss: 0.2972, Training accuracy: 0.8550\n",
            "Validation loss: 0.4856, Validation accuracy: 0.8375\n",
            "\n",
            "Epoch 47:\n",
            "Training loss: 0.2993, Training accuracy: 0.8594\n",
            "Validation loss: 1.0493, Validation accuracy: 0.8100\n",
            "\n",
            "Epoch 48:\n",
            "Training loss: 0.3588, Training accuracy: 0.8419\n",
            "Validation loss: 0.4146, Validation accuracy: 0.8025\n",
            "\n",
            "Epoch 49:\n",
            "Training loss: 0.3279, Training accuracy: 0.8462\n",
            "Validation loss: 0.4029, Validation accuracy: 0.8350\n",
            "\n",
            "==================================================\n",
            "==> Optimization finished! Best validation accuracy: 0.8425\n"
          ]
        }
      ]
    },
    {
      "cell_type": "markdown",
      "metadata": {
        "id": "dhaI0vgZAmba"
      },
      "source": [
        "# Model Performance Validation"
      ]
    },
    {
      "cell_type": "markdown",
      "metadata": {
        "id": "lFVS-fqKFRFN"
      },
      "source": [
        "### Training and Testing Accuracy Over Time"
      ]
    },
    {
      "cell_type": "code",
      "metadata": {
        "id": "Tmru9ATHEDx1",
        "colab": {
          "base_uri": "https://localhost:8080/",
          "height": 513
        },
        "outputId": "28a22ef8-e480-4534-a98f-b54eef234812"
      },
      "source": [
        "plt.figure(figsize=(8,8))\n",
        "plt.plot(range(EPOCHS),train_accur, label='Baseline Model - Training Accuracy')\n",
        "plt.plot(range(EPOCHS),test_accur, label='Baseline Model - Testing Accuracy')\n",
        "\n",
        "plt.title('Training and Testing Accuracy vs Epochs')\n",
        "plt.xlabel('Epochs')\n",
        "plt.ylabel('Training Accuracy')\n",
        "plt.legend()\n",
        "plt.show()"
      ],
      "execution_count": 18,
      "outputs": [
        {
          "output_type": "display_data",
          "data": {
            "image/png": "[encoded data removed]",
            "text/plain": [
              "<Figure size 576x576 with 1 Axes>"
            ]
          },
          "metadata": {
            "needs_background": "light"
          }
        }
      ]
    },
    {
      "cell_type": "markdown",
      "metadata": {
        "id": "MB1hJUfWFW1O"
      },
      "source": [
        "### Calculate Accuracy, Precision, Recall, and F1"
      ]
    },
    {
      "cell_type": "code",
      "metadata": {
        "colab": {
          "base_uri": "https://localhost:8080/"
        },
        "id": "lj81FzKzK34F",
        "outputId": "9586262a-b477-466f-b0e9-cf9b3d529157"
      },
      "source": [
        "# accuracy: (tp + tn) / (p + n)\n",
        "accuracy = accuracy_score(y_test, best_predictions)\n",
        "print('Accuracy: %f' % accuracy)\n",
        "# precision tp / (tp + fp)\n",
        "precision = precision_score(y_test, best_predictions)\n",
        "print('Precision: %f' % precision)\n",
        "# recall: tp / (tp + fn)\n",
        "recall = recall_score(y_test, best_predictions)\n",
        "print('Recall: %f' % recall)\n",
        "# f1: 2 tp / (2 tp + fp + fn)\n",
        "f1 = f1_score(y_test, best_predictions)\n",
        "print('F1 score: %f' % f1)"
      ],
      "execution_count": 19,
      "outputs": [
        {
          "output_type": "stream",
          "name": "stdout",
          "text": [
            "Accuracy: 0.842500\n",
            "Precision: 0.824645\n",
            "Recall: 0.870000\n",
            "F1 score: 0.846715\n"
          ]
        }
      ]
    },
    {
      "cell_type": "markdown",
      "metadata": {
        "id": "FMdXR1iVPGtc"
      },
      "source": [
        "### Calculate Confusion Matrix"
      ]
    },
    {
      "cell_type": "code",
      "metadata": {
        "colab": {
          "base_uri": "https://localhost:8080/",
          "height": 111
        },
        "id": "uUvwnBxYPTqe",
        "outputId": "d68ab32a-7d0e-4575-c5fd-f83da33df9ce"
      },
      "source": [
        "unique_label = np.unique([y_test, best_predictions])\n",
        "cmtx = pd.DataFrame(\n",
        "    confusion_matrix(y_test, best_predictions, labels=unique_label), \n",
        "    index=['true:{:}'.format(x) for x in unique_label], \n",
        "    columns=['pred:{:}'.format(x) for x in unique_label]\n",
        ")\n",
        "\n",
        "cmtx"
      ],
      "execution_count": 20,
      "outputs": [
        {
          "output_type": "execute_result",
          "data": {
            "text/html": [
              "<div>\n",
              "<style scoped>\n",
              "    .dataframe tbody tr th:only-of-type {\n",
              "        vertical-align: middle;\n",
              "    }\n",
              "\n",
              "    .dataframe tbody tr th {\n",
              "        vertical-align: top;\n",
              "    }\n",
              "\n",
              "    .dataframe thead th {\n",
              "        text-align: right;\n",
              "    }\n",
              "</style>\n",
              "<table border=\"1\" class=\"dataframe\">\n",
              "  <thead>\n",
              "    <tr style=\"text-align: right;\">\n",
              "      <th></th>\n",
              "      <th>pred:0</th>\n",
              "      <th>pred:1</th>\n",
              "    </tr>\n",
              "  </thead>\n",
              "  <tbody>\n",
              "    <tr>\n",
              "      <th>true:0</th>\n",
              "      <td>163</td>\n",
              "      <td>37</td>\n",
              "    </tr>\n",
              "    <tr>\n",
              "      <th>true:1</th>\n",
              "      <td>26</td>\n",
              "      <td>174</td>\n",
              "    </tr>\n",
              "  </tbody>\n",
              "</table>\n",
              "</div>"
            ],
            "text/plain": [
              "        pred:0  pred:1\n",
              "true:0     163      37\n",
              "true:1      26     174"
            ]
          },
          "metadata": {},
          "execution_count": 20
        }
      ]
    },
    {
      "cell_type": "markdown",
      "metadata": {
        "id": "luS0EkXfRE09"
      },
      "source": [
        "### Calculate ROC"
      ]
    },
    {
      "cell_type": "code",
      "metadata": {
        "id": "gWizH5VlRG2L"
      },
      "source": [
        "fpr, tpr, thresholds = roc_curve(y_test, best_output_probs)\n",
        "auc = roc_auc_score(y_test, best_output_probs)"
      ],
      "execution_count": 21,
      "outputs": []
    },
    {
      "cell_type": "code",
      "metadata": {
        "colab": {
          "base_uri": "https://localhost:8080/",
          "height": 530
        },
        "id": "JBuDEEOZTlEE",
        "outputId": "ca9a1722-7049-41f3-87a6-733366180b76"
      },
      "source": [
        "plt.figure(figsize=(8,8))\n",
        "plt.plot(fpr, tpr, label='AUC score is: '+str(round(auc, 4)))\n",
        "plt.title('ROC Curve')\n",
        "plt.xlabel('False Positive Rate')\n",
        "plt.ylabel('True Positive Rate')\n",
        "plt.legend()"
      ],
      "execution_count": 22,
      "outputs": [
        {
          "output_type": "execute_result",
          "data": {
            "text/plain": [
              "<matplotlib.legend.Legend at 0x7f05800b4290>"
            ]
          },
          "metadata": {},
          "execution_count": 22
        },
        {
          "output_type": "display_data",
          "data": {
            "image/png": "[encoded data removed]",
            "text/plain": [
              "<Figure size 576x576 with 1 Axes>"
            ]
          },
          "metadata": {
            "needs_background": "light"
          }
        }
      ]
    },
    {
      "cell_type": "code",
      "metadata": {
        "colab": {
          "base_uri": "https://localhost:8080/"
        },
        "id": "EUCMNKW-TpoB",
        "outputId": "4d57e8f6-e292-4f61-e786-0f5acb269a90"
      },
      "source": [
        "auc"
      ],
      "execution_count": 23,
      "outputs": [
        {
          "output_type": "execute_result",
          "data": {
            "text/plain": [
              "0.91245"
            ]
          },
          "metadata": {},
          "execution_count": 23
        }
      ]
    },
    {
      "cell_type": "markdown",
      "metadata": {
        "id": "5LzsX-I0xT4W"
      },
      "source": [
        "# Code to dump to help with Report"
      ]
    },
    {
      "cell_type": "code",
      "metadata": {
        "id": "fboqFJWVxUYW"
      },
      "source": [
        "df1 = pd.DataFrame({'Epochs':range(EPOCHS), 'train_accur':train_accur, 'test_accur':test_accur})\n",
        "df2 = pd.DataFrame({'y_test':y_test, 'best_predictions':best_predictions, 'best_output_probs':best_output_probs})"
      ],
      "execution_count": 24,
      "outputs": []
    },
    {
      "cell_type": "code",
      "metadata": {
        "colab": {
          "base_uri": "https://localhost:8080/",
          "height": 17
        },
        "id": "6Hk3sRaZxWX5",
        "outputId": "67aa7ba7-9274-40af-d425-bd9794daebc0"
      },
      "source": [
        "df1.to_csv('train_and_test_over_epochs_baseline_model.csv', index=False)\n",
        "files.download('train_and_test_over_epochs_baseline_model.csv')"
      ],
      "execution_count": 26,
      "outputs": [
        {
          "output_type": "display_data",
          "data": {
            "application/javascript": [
              "\n",
              "    async function download(id, filename, size) {\n",
              "      if (!google.colab.kernel.accessAllowed) {\n",
              "        return;\n",
              "      }\n",
              "      const div = document.createElement('div');\n",
              "      const label = document.createElement('label');\n",
              "      label.textContent = `Downloading \"${filename}\": `;\n",
              "      div.appendChild(label);\n",
              "      const progress = document.createElement('progress');\n",
              "      progress.max = size;\n",
              "      div.appendChild(progress);\n",
              "      document.body.appendChild(div);\n",
              "\n",
              "      const buffers = [];\n",
              "      let downloaded = 0;\n",
              "\n",
              "      const channel = await google.colab.kernel.comms.open(id);\n",
              "      // Send a message to notify the kernel that we're ready.\n",
              "      channel.send({})\n",
              "\n",
              "      for await (const message of channel.messages) {\n",
              "        // Send a message to notify the kernel that we're ready.\n",
              "        channel.send({})\n",
              "        if (message.buffers) {\n",
              "          for (const buffer of message.buffers) {\n",
              "            buffers.push(buffer);\n",
              "            downloaded += buffer.byteLength;\n",
              "            progress.value = downloaded;\n",
              "          }\n",
              "        }\n",
              "      }\n",
              "      const blob = new Blob(buffers, {type: 'application/binary'});\n",
              "      const a = document.createElement('a');\n",
              "      a.href = window.URL.createObjectURL(blob);\n",
              "      a.download = filename;\n",
              "      div.appendChild(a);\n",
              "      a.click();\n",
              "      div.remove();\n",
              "    }\n",
              "  "
            ],
            "text/plain": [
              "<IPython.core.display.Javascript object>"
            ]
          },
          "metadata": {}
        },
        {
          "output_type": "display_data",
          "data": {
            "application/javascript": [
              "download(\"download_da152310-59a7-44f2-ba56-f1403d813124\", \"train_and_test_over_epochs_baseline_model.csv\", 879)"
            ],
            "text/plain": [
              "<IPython.core.display.Javascript object>"
            ]
          },
          "metadata": {}
        }
      ]
    },
    {
      "cell_type": "code",
      "metadata": {
        "colab": {
          "base_uri": "https://localhost:8080/",
          "height": 17
        },
        "id": "Dx2sEwmGxl6Z",
        "outputId": "835f5af9-2588-4afd-c24f-90018ef7dca4"
      },
      "source": [
        "df2.to_csv('best_predictions_and_best_prob_baseline_model.csv', index=False)\n",
        "files.download('best_predictions_and_best_prob_baseline_model.csv')"
      ],
      "execution_count": 27,
      "outputs": [
        {
          "output_type": "display_data",
          "data": {
            "application/javascript": [
              "\n",
              "    async function download(id, filename, size) {\n",
              "      if (!google.colab.kernel.accessAllowed) {\n",
              "        return;\n",
              "      }\n",
              "      const div = document.createElement('div');\n",
              "      const label = document.createElement('label');\n",
              "      label.textContent = `Downloading \"${filename}\": `;\n",
              "      div.appendChild(label);\n",
              "      const progress = document.createElement('progress');\n",
              "      progress.max = size;\n",
              "      div.appendChild(progress);\n",
              "      document.body.appendChild(div);\n",
              "\n",
              "      const buffers = [];\n",
              "      let downloaded = 0;\n",
              "\n",
              "      const channel = await google.colab.kernel.comms.open(id);\n",
              "      // Send a message to notify the kernel that we're ready.\n",
              "      channel.send({})\n",
              "\n",
              "      for await (const message of channel.messages) {\n",
              "        // Send a message to notify the kernel that we're ready.\n",
              "        channel.send({})\n",
              "        if (message.buffers) {\n",
              "          for (const buffer of message.buffers) {\n",
              "            buffers.push(buffer);\n",
              "            downloaded += buffer.byteLength;\n",
              "            progress.value = downloaded;\n",
              "          }\n",
              "        }\n",
              "      }\n",
              "      const blob = new Blob(buffers, {type: 'application/binary'});\n",
              "      const a = document.createElement('a');\n",
              "      a.href = window.URL.createObjectURL(blob);\n",
              "      a.download = filename;\n",
              "      div.appendChild(a);\n",
              "      a.click();\n",
              "      div.remove();\n",
              "    }\n",
              "  "
            ],
            "text/plain": [
              "<IPython.core.display.Javascript object>"
            ]
          },
          "metadata": {}
        },
        {
          "output_type": "display_data",
          "data": {
            "application/javascript": [
              "download(\"download_01456c97-3199-4f87-9488-a481ed98d47a\", \"best_predictions_and_best_prob_baseline_model.csv\", 5864)"
            ],
            "text/plain": [
              "<IPython.core.display.Javascript object>"
            ]
          },
          "metadata": {}
        }
      ]
    },
    {
      "cell_type": "code",
      "metadata": {
        "id": "-wvBm1rZxwKO"
      },
      "source": [
        ""
      ],
      "execution_count": null,
      "outputs": []
    }
  ]
}
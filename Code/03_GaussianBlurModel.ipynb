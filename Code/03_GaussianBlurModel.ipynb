{
  "nbformat": 4,
  "nbformat_minor": 0,
  "metadata": {
    "accelerator": "GPU",
    "colab": {
      "name": "03_GaussianBlurModel.ipynb",
      "provenance": [],
      "collapsed_sections": [],
      "machine_shape": "hm"
    },
    "kernelspec": {
      "display_name": "Python 3",
      "language": "python",
      "name": "python3"
    },
    "language_info": {
      "codemirror_mode": {
        "name": "ipython",
        "version": 3
      },
      "file_extension": ".py",
      "mimetype": "text/x-python",
      "name": "python",
      "nbconvert_exporter": "python",
      "pygments_lexer": "ipython3",
      "version": "3.8.5"
    }
  },
  "cells": [
    {
      "cell_type": "markdown",
      "metadata": {
        "id": "lv6KVCwAfvM5"
      },
      "source": [
        "# Differential Data Augmentation Techniques for Medical Imaging Classification\n",
        "#### Gaussian Noise Augmentation Model Notebook"
      ]
    },
    {
      "cell_type": "markdown",
      "metadata": {
        "id": "EsEcf1Y5f5CV"
      },
      "source": [
        "## Import Packages"
      ]
    },
    {
      "cell_type": "code",
      "metadata": {
        "id": "CCo1efWtbIKq",
        "colab": {
          "base_uri": "https://localhost:8080/",
          "height": 368
        },
        "outputId": "8a12bbcb-c1c7-467b-e087-1471d31ac2ff"
      },
      "source": [
        "import torch\n",
        "import torchvision\n",
        "import numpy as np\n",
        "import matplotlib.pyplot as plt\n",
        "import torch.nn as nn\n",
        "import torch.nn.functional as F\n",
        "from torchvision.datasets import CIFAR10\n",
        "from torchvision.transforms import ToTensor\n",
        "from torchvision.utils import make_grid\n",
        "from torch.utils.data.dataloader import DataLoader, Dataset\n",
        "from torch.utils.data import random_split, TensorDataset, DataLoader\n",
        "%matplotlib inline\n",
        "from torchvision import transforms\n",
        "from torchvision.utils import save_image\n",
        "import torch.optim as optim\n",
        "from sklearn.model_selection import train_test_split\n",
        "import pandas as pd\n",
        "from PIL import Image\n",
        "import files\n",
        "# Imports for plotting\n",
        "from matplotlib import pyplot as plt\n",
        "from sklearn.metrics import precision_recall_curve\n",
        "\n",
        "# Imports for Loading Data\n",
        "import tensorflow as tf\n",
        "import cv2\n",
        "\n",
        "# Imports for Model Validations\n",
        "from sklearn.metrics import accuracy_score, precision_score, roc_curve\n",
        "from sklearn.metrics import recall_score, f1_score, confusion_matrix, roc_auc_score"
      ],
      "execution_count": 21,
      "outputs": [
        {
          "output_type": "error",
          "ename": "ModuleNotFoundError",
          "evalue": "ignored",
          "traceback": [
            "\u001b[0;31m---------------------------------------------------------------------------\u001b[0m",
            "\u001b[0;31mModuleNotFoundError\u001b[0m                       Traceback (most recent call last)",
            "\u001b[0;32m<ipython-input-21-0178845d1179>\u001b[0m in \u001b[0;36m<module>\u001b[0;34m()\u001b[0m\n\u001b[1;32m     17\u001b[0m \u001b[0;32mimport\u001b[0m \u001b[0mpandas\u001b[0m \u001b[0;32mas\u001b[0m \u001b[0mpd\u001b[0m\u001b[0;34m\u001b[0m\u001b[0;34m\u001b[0m\u001b[0m\n\u001b[1;32m     18\u001b[0m \u001b[0;32mfrom\u001b[0m \u001b[0mPIL\u001b[0m \u001b[0;32mimport\u001b[0m \u001b[0mImage\u001b[0m\u001b[0;34m\u001b[0m\u001b[0;34m\u001b[0m\u001b[0m\n\u001b[0;32m---> 19\u001b[0;31m \u001b[0;32mimport\u001b[0m \u001b[0mfiles\u001b[0m\u001b[0;34m\u001b[0m\u001b[0;34m\u001b[0m\u001b[0m\n\u001b[0m\u001b[1;32m     20\u001b[0m \u001b[0;31m# Imports for plotting\u001b[0m\u001b[0;34m\u001b[0m\u001b[0;34m\u001b[0m\u001b[0;34m\u001b[0m\u001b[0m\n\u001b[1;32m     21\u001b[0m \u001b[0;32mfrom\u001b[0m \u001b[0mmatplotlib\u001b[0m \u001b[0;32mimport\u001b[0m \u001b[0mpyplot\u001b[0m \u001b[0;32mas\u001b[0m \u001b[0mplt\u001b[0m\u001b[0;34m\u001b[0m\u001b[0;34m\u001b[0m\u001b[0m\n",
            "\u001b[0;31mModuleNotFoundError\u001b[0m: No module named 'files'",
            "",
            "\u001b[0;31m---------------------------------------------------------------------------\u001b[0;32m\nNOTE: If your import is failing due to a missing package, you can\nmanually install dependencies using either !pip or !apt.\n\nTo view examples of installing some common dependencies, click the\n\"Open Examples\" button below.\n\u001b[0;31m---------------------------------------------------------------------------\u001b[0m\n"
          ],
          "errorDetails": {
            "actions": [
              {
                "action": "open_url",
                "actionText": "Open Examples",
                "url": "/notebooks/snippets/importing_libraries.ipynb"
              }
            ]
          }
        }
      ]
    },
    {
      "cell_type": "markdown",
      "metadata": {
        "id": "USMjXdr7bsOM"
      },
      "source": [
        "# Data Wranging"
      ]
    },
    {
      "cell_type": "code",
      "metadata": {
        "id": "yvAXh5phcLsc"
      },
      "source": [
        "images=[]\n",
        "labels=[]\n",
        "feature_dictionary = {\n",
        "    'label': tf.io.FixedLenFeature([], tf.int64),\n",
        "    'label_normal': tf.io.FixedLenFeature([], tf.int64),\n",
        "    'image': tf.io.FixedLenFeature([], tf.string)\n",
        "    }"
      ],
      "execution_count": 2,
      "outputs": []
    },
    {
      "cell_type": "code",
      "metadata": {
        "id": "Gxhb_dB4cMqx"
      },
      "source": [
        "def _parse_function(example, feature_dictionary=feature_dictionary):\n",
        "    parsed_example = tf.io.parse_example(example, feature_dictionary)\n",
        "    return parsed_example\n",
        "\n",
        "def read_data(filename):\n",
        "    full_dataset = tf.data.TFRecordDataset(filename,num_parallel_reads=tf.data.experimental.AUTOTUNE)\n",
        "    full_dataset = full_dataset.shuffle(buffer_size=31000)\n",
        "    full_dataset = full_dataset.cache()\n",
        "    print(\"Size of Training Dataset: \", len(list(full_dataset)))\n",
        "    \n",
        "    feature_dictionary = {\n",
        "    'label': tf.io.FixedLenFeature([], tf.int64),\n",
        "    'label_normal': tf.io.FixedLenFeature([], tf.int64),\n",
        "    'image': tf.io.FixedLenFeature([], tf.string)\n",
        "    }   \n",
        "\n",
        "    full_dataset = full_dataset.map(_parse_function, num_parallel_calls=tf.data.experimental.AUTOTUNE)\n",
        "    print(full_dataset)\n",
        "    for image_features in full_dataset:\n",
        "        image = image_features['image'].numpy()\n",
        "        image = tf.io.decode_raw(image_features['image'], tf.uint8)\n",
        "        image = tf.reshape(image, [299, 299])        \n",
        "        image=image.numpy()\n",
        "        image=cv2.resize(image,(224,224))\n",
        "        image=cv2.merge([image,image,image])        \n",
        "        #plt.imshow(image)\n",
        "        images.append(image)\n",
        "        labels.append(image_features['label_normal'].numpy())"
      ],
      "execution_count": 3,
      "outputs": []
    },
    {
      "cell_type": "code",
      "metadata": {
        "colab": {
          "base_uri": "https://localhost:8080/"
        },
        "id": "Uq_OBcvscVJr",
        "outputId": "775b29c0-f014-4d69-a878-fbae307233e1"
      },
      "source": [
        "from google.colab import drive\n",
        "drive.mount('/content/drive')"
      ],
      "execution_count": 4,
      "outputs": [
        {
          "output_type": "stream",
          "name": "stdout",
          "text": [
            "Mounted at /content/drive\n"
          ]
        }
      ]
    },
    {
      "cell_type": "code",
      "metadata": {
        "colab": {
          "base_uri": "https://localhost:8080/"
        },
        "id": "haaG-u3pcVOI",
        "outputId": "d17b9979-de5a-4a1b-fb6a-8c3e44f5b9fd"
      },
      "source": [
        "filenames=['/content/drive/MyDrive/ECE661_FinalProject/Data/training10_0.tfrecords'\n",
        "         # ,'/content/drive/MyDrive/Colab Notebooks/ECE661_FinalProject/Data/training10_1.tfrecords'\n",
        "         # ,'/content/drive/MyDrive/Colab Notebooks/ECE661_FinalProject/Data/training10_2.tfrecords'\n",
        "         # ,'/content/drive/MyDrive/Colab Notebooks/ECE661_FinalProject/Data/training10_3.tfrecords'\n",
        "         # ,'/content/drive/MyDrive/Colab Notebooks/ECE661_FinalProject/Data/training10_4.tfrecords'\n",
        "         ]\n",
        "\n",
        "for file in filenames:\n",
        "    read_data(file)\n",
        "    \n",
        "print(len(images))\n",
        "print(len(labels))"
      ],
      "execution_count": 6,
      "outputs": [
        {
          "output_type": "stream",
          "name": "stdout",
          "text": [
            "Size of Training Dataset:  11177\n",
            "<ParallelMapDataset shapes: {image: (), label: (), label_normal: ()}, types: {image: tf.string, label: tf.int64, label_normal: tf.int64}>\n",
            "22354\n",
            "22354\n"
          ]
        }
      ]
    },
    {
      "cell_type": "markdown",
      "metadata": {
        "id": "p_7Inm7QgsCn"
      },
      "source": [
        "## Create Train-Val-Test Split "
      ]
    },
    {
      "cell_type": "markdown",
      "metadata": {
        "id": "SI9Rl9Zh7SwF"
      },
      "source": [
        "### Get 1000 True cases and 1000 False cases"
      ]
    },
    {
      "cell_type": "code",
      "metadata": {
        "colab": {
          "base_uri": "https://localhost:8080/"
        },
        "id": "gbIOOcrz3Lmb",
        "outputId": "a28cb2db-1a00-4e90-fd13-593e7904cb15"
      },
      "source": [
        "Y = pd.DataFrame({'Y':labels})\n",
        "true_cases = list(Y[Y['Y'] == 1].copy().index)[0:1000]\n",
        "false_cases = list(Y[Y['Y'] == 0].copy().index)[0:1000]\n",
        "ind = true_cases + false_cases\n",
        "print(len(ind))"
      ],
      "execution_count": 7,
      "outputs": [
        {
          "output_type": "stream",
          "name": "stdout",
          "text": [
            "2000\n"
          ]
        }
      ]
    },
    {
      "cell_type": "code",
      "metadata": {
        "id": "TUqPe4io5eck"
      },
      "source": [
        "y = np.array([labels[i] for i in ind])\n",
        "X = np.array([images[i] for i in ind])"
      ],
      "execution_count": 8,
      "outputs": []
    },
    {
      "cell_type": "code",
      "metadata": {
        "id": "58p2I6Ijgwv9"
      },
      "source": [
        "x_train, x_test, y_train, y_test = train_test_split(X, y, test_size=0.2, stratify=y ,random_state=2021,shuffle=True)"
      ],
      "execution_count": 9,
      "outputs": []
    },
    {
      "cell_type": "code",
      "metadata": {
        "colab": {
          "base_uri": "https://localhost:8080/"
        },
        "id": "_bvEqL7xirfE",
        "outputId": "1c347438-9fae-4b46-c763-6b9b91d26bcb"
      },
      "source": [
        "print('80-20 Split')\n",
        "print('X-Train Shape: ', x_train.shape)\n",
        "print('X-Test Shape: ', x_test.shape)"
      ],
      "execution_count": 10,
      "outputs": [
        {
          "output_type": "stream",
          "name": "stdout",
          "text": [
            "80-20 Split\n",
            "X-Train Shape:  (1600, 224, 224, 3)\n",
            "X-Test Shape:  (400, 224, 224, 3)\n"
          ]
        }
      ]
    },
    {
      "cell_type": "markdown",
      "metadata": {
        "id": "ejSSRc1yCR44"
      },
      "source": [
        "### Create Custom Tensor Dataset (To Allow for Transform data augmentation techniques)"
      ]
    },
    {
      "cell_type": "code",
      "metadata": {
        "id": "LAA43m---p6Q"
      },
      "source": [
        "class CustomTensorDataset(Dataset):\n",
        "    \"\"\"TensorDataset with support of transforms.\n",
        "    \"\"\"\n",
        "    def __init__(self, tensors, transform=None):\n",
        "        assert all(tensors[0].size(0) == tensor.size(0) for tensor in tensors)\n",
        "        self.tensors = tensors\n",
        "        self.transform = transform\n",
        "\n",
        "    def __getitem__(self, index):\n",
        "        x = self.tensors[0][index]\n",
        "\n",
        "        if self.transform:\n",
        "            x = self.transform(x)\n",
        "\n",
        "        y = self.tensors[1][index]\n",
        "\n",
        "        return x, y\n",
        "\n",
        "    def __len__(self):\n",
        "        return self.tensors[0].size(0)\n"
      ],
      "execution_count": 11,
      "outputs": []
    },
    {
      "cell_type": "markdown",
      "metadata": {
        "id": "MeGiJcp5BEg7"
      },
      "source": [
        "### Calculate Mean and Std For Transform Method"
      ]
    },
    {
      "cell_type": "code",
      "metadata": {
        "id": "QFQQcl990hNB"
      },
      "source": [
        "# nimages = 0\n",
        "# mean = 0.0\n",
        "# var = 0.0\n",
        "\n",
        "# for i_batch, batch_target in enumerate(train_dataloader):\n",
        "#     batch = batch_target[0]\n",
        "#     # Rearrange batch to be the shape of [B, C, W * H]\n",
        "#     batch = batch.view(batch.size(0), batch.size(1), -1)\n",
        "#     # Update total number of images\n",
        "#     nimages += batch.size(0)\n",
        "#     # Compute mean and std here\n",
        "#     mean += batch.mean(2).sum(0) \n",
        "#     var += batch.var(2).sum(0)\n",
        "\n",
        "# mean /= nimages\n",
        "# var /= nimages\n",
        "# std = torch.sqrt(var)\n",
        "\n",
        "# print(mean)\n",
        "# print(std)"
      ],
      "execution_count": 12,
      "outputs": []
    },
    {
      "cell_type": "markdown",
      "metadata": {
        "id": "_idndniW1kje"
      },
      "source": [
        "Normalization Metrics from running the above code snippet: \n",
        "\n",
        "Mean: tensor([105.7823, 105.7823, 105.7823])\n",
        "\n",
        "\n",
        "Std: tensor([26.6096, 26.6096, 26.6096])"
      ]
    },
    {
      "cell_type": "markdown",
      "metadata": {
        "id": "tzh1VEW0BzdZ"
      },
      "source": [
        "### Add Gaussian Noise Transformation Class"
      ]
    },
    {
      "cell_type": "code",
      "metadata": {
        "id": "hCmM_0fwB1nx"
      },
      "source": [
        "class AddGaussianNoise(object):\n",
        "    def __init__(self, mean=0., std=1.):\n",
        "        self.std = std\n",
        "        self.mean = mean\n",
        "        \n",
        "    def __call__(self, tensor):\n",
        "        return tensor + torch.randn(tensor.size()) * self.std + self.mean\n",
        "    \n",
        "    def __repr__(self):\n",
        "        return self.__class__.__name__ + '(mean={0}, std={1})'.format(self.mean, self.std)"
      ],
      "execution_count": 13,
      "outputs": []
    },
    {
      "cell_type": "code",
      "metadata": {
        "id": "2Xvvl32LsYPX"
      },
      "source": [
        "# Define preprocessing\n",
        "trsfm = transforms.Compose([\n",
        "        transforms.ToPILImage(),\n",
        "        transforms.ToTensor(),\n",
        "        #transforms.Normalize((105.7823, 105.7823, 105.7823), (26.6096, 26.6096, 26.6096)),\n",
        "        transforms.GaussianBlur(kernel_size=17)\n",
        "        ])\n",
        "#\n",
        "# Train\n",
        "tensor_trainX = torch.Tensor(x_train) # transform to torch tensor\n",
        "tensor_trainY = torch.Tensor(y_train)\n",
        "tensor_trainX = tensor_trainX.permute(0, 3, 1, 2)\n",
        "\n",
        "# Test\n",
        "tensor_testX = torch.Tensor(x_test) # transform to torch tensor\n",
        "tensor_testY = torch.Tensor(y_test)\n",
        "tensor_testX = tensor_testX.permute(0, 3, 1, 2)"
      ],
      "execution_count": 14,
      "outputs": []
    },
    {
      "cell_type": "code",
      "metadata": {
        "id": "6NkPTeYzdosd"
      },
      "source": [
        "train_tensor_aug = CustomTensorDataset(tensors=(tensor_trainX,tensor_trainY), transform=trsfm) # create your datset\n",
        "train_tensor_nrm = CustomTensorDataset(tensors=(tensor_trainX,tensor_trainY), transform=None) # create your datset\n",
        "train_tensor = train_tensor_aug + train_tensor_nrm\n",
        "train_dataloader = DataLoader(train_tensor, batch_size=64, shuffle=False) # create your dataloader\n",
        "\n",
        "test_tensor = CustomTensorDataset(tensors=(tensor_testX,tensor_testY), transform=trsfm) # create your datset\n",
        "test_dataloader = DataLoader(test_tensor, batch_size=64, shuffle=False) # create your dataloader"
      ],
      "execution_count": 15,
      "outputs": []
    },
    {
      "cell_type": "code",
      "metadata": {
        "colab": {
          "base_uri": "https://localhost:8080/",
          "height": 286
        },
        "id": "uqDkktkqtFea",
        "outputId": "2b9f68eb-7e58-4462-c3a5-c8a6368cacd2"
      },
      "source": [
        "images, labels = next(iter(train_dataloader))\n",
        "plt.imshow(images[11].permute(1, 2, 0))"
      ],
      "execution_count": 16,
      "outputs": [
        {
          "output_type": "execute_result",
          "data": {
            "text/plain": [
              "<matplotlib.image.AxesImage at 0x7f3b567d17d0>"
            ]
          },
          "metadata": {},
          "execution_count": 16
        },
        {
          "output_type": "display_data",
          "data": {
            "image/png": "[encoded data removed]",
            "text/plain": [
              "<Figure size 432x288 with 1 Axes>"
            ]
          },
          "metadata": {
            "needs_background": "light"
          }
        }
      ]
    },
    {
      "cell_type": "markdown",
      "metadata": {
        "id": "l36qmFMWsxX5"
      },
      "source": [
        "## Create VGG16 model"
      ]
    },
    {
      "cell_type": "code",
      "metadata": {
        "id": "HZhbojQ6syWs"
      },
      "source": [
        "class VGG16(nn.Module):\n",
        "    def __init__(self):\n",
        "        super(VGG16, self).__init__()\n",
        "        self.conv1_1 = nn.Conv2d(in_channels=3, out_channels=64, kernel_size=3, padding=1)\n",
        "        self.conv1_2 = nn.Conv2d(in_channels=64, out_channels=64, kernel_size=3, padding=1)\n",
        "\n",
        "        self.conv2_1 = nn.Conv2d(in_channels=64, out_channels=128, kernel_size=3, padding=1)\n",
        "        self.conv2_2 = nn.Conv2d(in_channels=128, out_channels=128, kernel_size=3, padding=1)\n",
        "\n",
        "        self.conv3_1 = nn.Conv2d(in_channels=128, out_channels=256, kernel_size=3, padding=1)\n",
        "        self.conv3_2 = nn.Conv2d(in_channels=256, out_channels=256, kernel_size=3, padding=1)\n",
        "        self.conv3_3 = nn.Conv2d(in_channels=256, out_channels=256, kernel_size=3, padding=1)\n",
        "\n",
        "        self.conv4_1 = nn.Conv2d(in_channels=256, out_channels=512, kernel_size=3, padding=1)\n",
        "        self.conv4_2 = nn.Conv2d(in_channels=512, out_channels=512, kernel_size=3, padding=1)\n",
        "        self.conv4_3 = nn.Conv2d(in_channels=512, out_channels=512, kernel_size=3, padding=1)\n",
        "\n",
        "        self.conv5_1 = nn.Conv2d(in_channels=512, out_channels=512, kernel_size=3, padding=1)\n",
        "        self.conv5_2 = nn.Conv2d(in_channels=512, out_channels=512, kernel_size=3, padding=1)\n",
        "        self.conv5_3 = nn.Conv2d(in_channels=512, out_channels=512, kernel_size=3, padding=1)\n",
        "\n",
        "        self.maxpool = nn.MaxPool2d(kernel_size=2, stride=2)\n",
        "\n",
        "        self.fc1 = nn.Linear(25088, 4096)\n",
        "        self.fc2 = nn.Linear(4096, 1000)\n",
        "        self.fc3 = nn.Linear(1000, 2)\n",
        "\n",
        "    def forward(self, x):\n",
        "        x = F.relu(self.conv1_1(x))\n",
        "        x = F.relu(self.conv1_2(x))\n",
        "        x = self.maxpool(x)\n",
        "        x = F.relu(self.conv2_1(x))\n",
        "        x = F.relu(self.conv2_2(x))\n",
        "        x = self.maxpool(x)\n",
        "        x = F.relu(self.conv3_1(x))\n",
        "        x = F.relu(self.conv3_2(x))\n",
        "        x = F.relu(self.conv3_3(x))\n",
        "        x = self.maxpool(x)\n",
        "        x = F.relu(self.conv4_1(x))\n",
        "        x = F.relu(self.conv4_2(x))\n",
        "        x = F.relu(self.conv4_3(x))\n",
        "        x = self.maxpool(x)\n",
        "        x = F.relu(self.conv5_1(x))\n",
        "        x = F.relu(self.conv5_2(x))\n",
        "        x = F.relu(self.conv5_3(x))\n",
        "        x = self.maxpool(x)\n",
        "        x = x.reshape(x.shape[0], -1)\n",
        "        x = F.relu(self.fc1(x))\n",
        "        x = F.dropout(x, 0.5) #dropout was included to combat overfitting\n",
        "        x = F.relu(self.fc2(x))\n",
        "        x = F.dropout(x, 0.5)\n",
        "        x = self.fc3(x)\n",
        "        return x"
      ],
      "execution_count": 17,
      "outputs": []
    },
    {
      "cell_type": "markdown",
      "metadata": {
        "id": "Ks3lUzedbY_5"
      },
      "source": [
        "## Prepare model for Training"
      ]
    },
    {
      "cell_type": "code",
      "metadata": {
        "id": "CRevMW3ea2-0"
      },
      "source": [
        "device = torch.device('cuda' if torch.cuda.is_available() else 'cpu') #training with either cpu or cuda\n",
        "\n",
        "model = VGG16() #to compile the model\n",
        "model = model.to(device=device) #to send the model for training on either cuda or cpu\n",
        "\n",
        "## Loss and optimizer\n",
        "learning_rate = 1e-4 #I picked this because it seems to be the most used by experts\n",
        "l2_reg = 1e-7\n",
        "\n",
        "load_model = True\n",
        "criterion = nn.CrossEntropyLoss().to(device)\n",
        "optimizer = optim.Adam(model.parameters(), lr= learning_rate, weight_decay=l2_reg) #Adam seems to be the most popular for deep learning"
      ],
      "execution_count": 18,
      "outputs": []
    },
    {
      "cell_type": "markdown",
      "metadata": {
        "id": "93A_gWKubmG3"
      },
      "source": [
        "## Training"
      ]
    },
    {
      "cell_type": "code",
      "metadata": {
        "colab": {
          "base_uri": "https://localhost:8080/"
        },
        "id": "w84GaoSuN9yf",
        "outputId": "380bfa95-14a6-4eeb-8a49-1563d7eabff6"
      },
      "source": [
        "# some hyperparameters\n",
        "# total number of training epochs\n",
        "EPOCHS = 50\n",
        "\n",
        "# start the training/validation process\n",
        "# the process should take about 5 minutes on a GTX 1070-Ti\n",
        "# if the code is written efficiently.\n",
        "best_val_acc = 0\n",
        "train_accur = []\n",
        "test_accur = []\n",
        "\n",
        "best_predictions = []\n",
        "best_output_probs = []\n",
        "\n",
        "print(\"==> Training starts!\")\n",
        "print(\"=\"*50)\n",
        "for i in range(0, EPOCHS):\n",
        "\n",
        "    all_predictions = []\n",
        "    all_outputs = []    \n",
        "    #######################\n",
        "    # your code here\n",
        "    # switch to train mode\n",
        "    model.train()\n",
        "    #######################\n",
        "    \n",
        "    print(\"Epoch %d:\" %i)\n",
        "    # this help you compute the training accuracy\n",
        "    total_examples = 0\n",
        "    correct_examples = 0\n",
        "\n",
        "    train_loss = 0 # track training loss if you want\n",
        "    \n",
        "    # Train the model for 1 epoch.\n",
        "    for batch_idx, (inputs, targets) in enumerate(train_dataloader):\n",
        "        ####################################\n",
        "        # your code here\n",
        "        # copy inputs to device\n",
        "        # Convert to Pytorch (N, C, H, W)\n",
        "        #inputs = inputs.permute(0, 3, 1, 2)\n",
        "        images = inputs.to(device)\n",
        "        # print(batch_idx)\n",
        "        # print(images.shape)\n",
        "\n",
        "        targets = targets.to(device=device).long()\n",
        "        \n",
        "        # compute the output and loss\n",
        "        outputs = model(images)\n",
        "        loss = criterion(outputs, targets)\n",
        "        \n",
        "        # zero the gradient\n",
        "        optimizer.zero_grad()\n",
        "        \n",
        "        # backpropagation\n",
        "        loss.backward()\n",
        "        \n",
        "        # apply gradient and update the weights\n",
        "        optimizer.step()\n",
        "        _, predicted = torch.max(outputs, 1)\n",
        "        \n",
        "        # count the number of correctly predicted samples in the current batch\n",
        "        correct = predicted.eq(targets).sum()\n",
        "        \n",
        "        total_examples += targets.shape[0]\n",
        "        train_loss += loss\n",
        "        correct_examples += correct.item()\n",
        "        \n",
        "        ####################################\n",
        "    \n",
        "    avg_loss = train_loss / len(train_dataloader)\n",
        "    avg_acc = correct_examples / total_examples\n",
        "    print(\"Training loss: %.4f, Training accuracy: %.4f\" %(avg_loss, avg_acc))\n",
        "    train_accur.append(avg_acc)\n",
        "\n",
        "    # Validate on the validation dataset\n",
        "    #######################\n",
        "    # your code here\n",
        "    # switch to eval mode\n",
        "    model.eval()\n",
        "    \n",
        "    #######################\n",
        "\n",
        "    # this help you compute the validation accuracy\n",
        "    total_examples = 0\n",
        "    correct_examples = 0\n",
        "    \n",
        "    val_loss = 0 # again, track the validation loss if you want\n",
        "\n",
        "    # disable gradient during validation, which can save GPU memory\n",
        "    with torch.no_grad():\n",
        "        for batch_idx, (inputs, targets) in enumerate(test_dataloader):\n",
        "            ####################################\n",
        "            # your code here\n",
        "            # copy inputs to device\n",
        "            # Convert to Pytorch (N, C, H, W)\n",
        "            #inputs = inputs.permute(0, 3, 1, 2)\n",
        "            images = inputs.to(device)\n",
        "\n",
        "            targets = targets.to(device=device).long()\n",
        "            \n",
        "            # compute the output and loss\n",
        "            outputs = model(images)\n",
        "            all_outputs.append(outputs[:,1].cpu().numpy())\n",
        "\n",
        "\n",
        "            loss = criterion(outputs, targets)\n",
        "            \n",
        "            # count the number of correctly predicted samples in the current batch\n",
        "            _, predicted = torch.max(outputs, 1)\n",
        "            correct = predicted.eq(targets).sum()\n",
        "            all_predictions.append(predicted.cpu().numpy())\n",
        "\n",
        "            total_examples += targets.shape[0]\n",
        "            val_loss += loss\n",
        "            correct_examples += correct.item()\n",
        "            \n",
        "            ####################################\n",
        "    \n",
        "    avg_loss = val_loss / len(test_dataloader)\n",
        "    avg_acc = correct_examples / total_examples\n",
        "    print(\"Validation loss: %.4f, Validation accuracy: %.4f\" % (avg_loss, avg_acc))\n",
        "    test_accur.append(avg_acc)\n",
        "\n",
        "    # save the model checkpoint\n",
        "    if avg_acc > best_val_acc:\n",
        "        best_val_acc = avg_acc\n",
        "\n",
        "        all_predictions = np.concatenate(all_predictions).ravel()\n",
        "        best_predictions = all_predictions\n",
        "\n",
        "        all_outputs = np.concatenate(all_outputs).ravel()\n",
        "        best_output_probs = all_outputs\n",
        "\n",
        "        print(\"Saving ...\")\n",
        "        state = {'state_dict': model.state_dict(),\n",
        "                 'epoch': i,\n",
        "                 'lr': learning_rate}\n",
        "        torch.save(state,'baseline_model.pth')\n",
        "        \n",
        "    print('')\n",
        "\n",
        "print(\"=\"*50)\n",
        "print(f\"==> Optimization finished! Best validation accuracy: {best_val_acc:.4f}\")"
      ],
      "execution_count": 19,
      "outputs": [
        {
          "output_type": "stream",
          "name": "stdout",
          "text": [
            "==> Training starts!\n",
            "==================================================\n",
            "Epoch 0:\n",
            "Training loss: 0.7203, Training accuracy: 0.5138\n",
            "Validation loss: 0.6932, Validation accuracy: 0.5000\n",
            "Saving ...\n",
            "\n",
            "Epoch 1:\n",
            "Training loss: 0.7777, Training accuracy: 0.5378\n",
            "Validation loss: 0.6935, Validation accuracy: 0.5000\n",
            "\n",
            "Epoch 2:\n",
            "Training loss: 0.6660, Training accuracy: 0.5766\n",
            "Validation loss: 0.6663, Validation accuracy: 0.6500\n",
            "Saving ...\n",
            "\n",
            "Epoch 3:\n",
            "Training loss: 0.5863, Training accuracy: 0.6469\n",
            "Validation loss: 0.4602, Validation accuracy: 0.7750\n",
            "Saving ...\n",
            "\n",
            "Epoch 4:\n",
            "Training loss: 0.5347, Training accuracy: 0.7203\n",
            "Validation loss: 0.5485, Validation accuracy: 0.7675\n",
            "\n",
            "Epoch 5:\n",
            "Training loss: 0.7127, Training accuracy: 0.6875\n",
            "Validation loss: 0.6955, Validation accuracy: 0.4975\n",
            "\n",
            "Epoch 6:\n",
            "Training loss: 0.6253, Training accuracy: 0.6225\n",
            "Validation loss: 1.2766, Validation accuracy: 0.5825\n",
            "\n",
            "Epoch 7:\n",
            "Training loss: 0.6930, Training accuracy: 0.5728\n",
            "Validation loss: 0.6718, Validation accuracy: 0.6000\n",
            "\n",
            "Epoch 8:\n",
            "Training loss: 0.6449, Training accuracy: 0.5647\n",
            "Validation loss: 0.6106, Validation accuracy: 0.5525\n",
            "\n",
            "Epoch 9:\n",
            "Training loss: 0.5521, Training accuracy: 0.7188\n",
            "Validation loss: 0.5054, Validation accuracy: 0.8075\n",
            "Saving ...\n",
            "\n",
            "Epoch 10:\n",
            "Training loss: 0.6088, Training accuracy: 0.6834\n",
            "Validation loss: 0.5829, Validation accuracy: 0.8050\n",
            "\n",
            "Epoch 11:\n",
            "Training loss: 0.5439, Training accuracy: 0.7662\n",
            "Validation loss: 0.6741, Validation accuracy: 0.8175\n",
            "Saving ...\n",
            "\n",
            "Epoch 12:\n",
            "Training loss: 0.5114, Training accuracy: 0.7588\n",
            "Validation loss: 0.8911, Validation accuracy: 0.7900\n",
            "\n",
            "Epoch 13:\n",
            "Training loss: 0.5223, Training accuracy: 0.7528\n",
            "Validation loss: 0.5719, Validation accuracy: 0.7825\n",
            "\n",
            "Epoch 14:\n",
            "Training loss: 0.6008, Training accuracy: 0.6872\n",
            "Validation loss: 0.5243, Validation accuracy: 0.8000\n",
            "\n",
            "Epoch 15:\n",
            "Training loss: 0.6140, Training accuracy: 0.7366\n",
            "Validation loss: 0.5949, Validation accuracy: 0.7650\n",
            "\n",
            "Epoch 16:\n",
            "Training loss: 0.6032, Training accuracy: 0.6700\n",
            "Validation loss: 0.5669, Validation accuracy: 0.8300\n",
            "Saving ...\n",
            "\n",
            "Epoch 17:\n",
            "Training loss: 0.5388, Training accuracy: 0.7359\n",
            "Validation loss: 0.5407, Validation accuracy: 0.8275\n",
            "\n",
            "Epoch 18:\n",
            "Training loss: 0.5833, Training accuracy: 0.7309\n",
            "Validation loss: 0.6140, Validation accuracy: 0.7150\n",
            "\n",
            "Epoch 19:\n",
            "Training loss: 0.5319, Training accuracy: 0.7456\n",
            "Validation loss: 0.7120, Validation accuracy: 0.7550\n",
            "\n",
            "Epoch 20:\n",
            "Training loss: 0.4979, Training accuracy: 0.7875\n",
            "Validation loss: 0.6935, Validation accuracy: 0.8050\n",
            "\n",
            "Epoch 21:\n",
            "Training loss: 0.5542, Training accuracy: 0.7234\n",
            "Validation loss: 0.5280, Validation accuracy: 0.8000\n",
            "\n",
            "Epoch 22:\n",
            "Training loss: 0.4711, Training accuracy: 0.7825\n",
            "Validation loss: 0.7576, Validation accuracy: 0.8375\n",
            "Saving ...\n",
            "\n",
            "Epoch 23:\n",
            "Training loss: 0.4825, Training accuracy: 0.7778\n",
            "Validation loss: 0.7043, Validation accuracy: 0.8175\n",
            "\n",
            "Epoch 24:\n",
            "Training loss: 0.4462, Training accuracy: 0.7987\n",
            "Validation loss: 0.5523, Validation accuracy: 0.8450\n",
            "Saving ...\n",
            "\n",
            "Epoch 25:\n",
            "Training loss: 0.4174, Training accuracy: 0.8141\n",
            "Validation loss: 0.8373, Validation accuracy: 0.7725\n",
            "\n",
            "Epoch 26:\n",
            "Training loss: 0.4347, Training accuracy: 0.7909\n",
            "Validation loss: 0.4195, Validation accuracy: 0.8550\n",
            "Saving ...\n",
            "\n",
            "Epoch 27:\n",
            "Training loss: 0.5666, Training accuracy: 0.7544\n",
            "Validation loss: 0.5418, Validation accuracy: 0.7925\n",
            "\n",
            "Epoch 28:\n",
            "Training loss: 0.5398, Training accuracy: 0.7200\n",
            "Validation loss: 0.5183, Validation accuracy: 0.8325\n",
            "\n",
            "Epoch 29:\n",
            "Training loss: 0.4445, Training accuracy: 0.7881\n",
            "Validation loss: 0.3975, Validation accuracy: 0.8325\n",
            "\n",
            "Epoch 30:\n",
            "Training loss: 0.7471, Training accuracy: 0.6978\n",
            "Validation loss: 0.6904, Validation accuracy: 0.5575\n",
            "\n",
            "Epoch 31:\n",
            "Training loss: 0.5852, Training accuracy: 0.6837\n",
            "Validation loss: 0.6061, Validation accuracy: 0.7825\n",
            "\n",
            "Epoch 32:\n",
            "Training loss: 0.5080, Training accuracy: 0.7428\n",
            "Validation loss: 0.4541, Validation accuracy: 0.7925\n",
            "\n",
            "Epoch 33:\n",
            "Training loss: 0.4502, Training accuracy: 0.7869\n",
            "Validation loss: 1.2567, Validation accuracy: 0.6900\n",
            "\n",
            "Epoch 34:\n",
            "Training loss: 0.5364, Training accuracy: 0.7584\n",
            "Validation loss: 0.4134, Validation accuracy: 0.8250\n",
            "\n",
            "Epoch 35:\n",
            "Training loss: 0.3957, Training accuracy: 0.8113\n",
            "Validation loss: 0.4360, Validation accuracy: 0.8600\n",
            "Saving ...\n",
            "\n",
            "Epoch 36:\n",
            "Training loss: 0.3912, Training accuracy: 0.8194\n",
            "Validation loss: 0.4551, Validation accuracy: 0.8150\n",
            "\n",
            "Epoch 37:\n",
            "Training loss: 0.3459, Training accuracy: 0.8462\n",
            "Validation loss: 0.4700, Validation accuracy: 0.8425\n",
            "\n",
            "Epoch 38:\n",
            "Training loss: 0.3263, Training accuracy: 0.8531\n",
            "Validation loss: 0.5945, Validation accuracy: 0.8075\n",
            "\n",
            "Epoch 39:\n",
            "Training loss: 0.4379, Training accuracy: 0.7944\n",
            "Validation loss: 0.6138, Validation accuracy: 0.7200\n",
            "\n",
            "Epoch 40:\n",
            "Training loss: 0.4395, Training accuracy: 0.7978\n",
            "Validation loss: 0.6680, Validation accuracy: 0.7525\n",
            "\n",
            "Epoch 41:\n",
            "Training loss: 0.3604, Training accuracy: 0.8422\n",
            "Validation loss: 0.5368, Validation accuracy: 0.8575\n",
            "\n",
            "Epoch 42:\n",
            "Training loss: 0.3147, Training accuracy: 0.8628\n",
            "Validation loss: 0.6599, Validation accuracy: 0.8325\n",
            "\n",
            "Epoch 43:\n",
            "Training loss: 0.3689, Training accuracy: 0.8334\n",
            "Validation loss: 0.4571, Validation accuracy: 0.8175\n",
            "\n",
            "Epoch 44:\n",
            "Training loss: 0.3156, Training accuracy: 0.8531\n",
            "Validation loss: 0.6235, Validation accuracy: 0.8100\n",
            "\n",
            "Epoch 45:\n",
            "Training loss: 0.2696, Training accuracy: 0.8822\n",
            "Validation loss: 0.5198, Validation accuracy: 0.8275\n",
            "\n",
            "Epoch 46:\n",
            "Training loss: 0.2736, Training accuracy: 0.8753\n",
            "Validation loss: 0.5127, Validation accuracy: 0.8350\n",
            "\n",
            "Epoch 47:\n",
            "Training loss: 0.2515, Training accuracy: 0.8912\n",
            "Validation loss: 0.7326, Validation accuracy: 0.8250\n",
            "\n",
            "Epoch 48:\n",
            "Training loss: 0.2965, Training accuracy: 0.8578\n",
            "Validation loss: 0.7152, Validation accuracy: 0.8075\n",
            "\n",
            "Epoch 49:\n",
            "Training loss: 0.2514, Training accuracy: 0.8950\n",
            "Validation loss: 0.9214, Validation accuracy: 0.8150\n",
            "\n",
            "==================================================\n",
            "==> Optimization finished! Best validation accuracy: 0.8600\n"
          ]
        }
      ]
    },
    {
      "cell_type": "code",
      "metadata": {
        "id": "V1w_zZ3Fw5Ya"
      },
      "source": [
        "df1 = pd.DataFrame({'Epochs':range(EPOCHS), 'train_accur':train_accur, 'test_accur':test_accur})\n",
        "df2 = pd.DataFrame({'y_test':y_test, 'best_predictions':best_predictions, 'best_output_probs':best_output_probs})\n",
        "\n",
        "df1.to_csv('train_and_test_over_epochs_gaussian_blur_model.csv', index=False)\n",
        "#files.download('train_and_test_over_epochs_gaussian_blur_model.csv')\n",
        "\n",
        "df2.to_csv('best_predictions_and_best_prob_gaussian_blur_model.csv', index=False)\n",
        "#files.download('best_predictions_and_best_prob_gaussian_blur_model.csv')"
      ],
      "execution_count": 22,
      "outputs": []
    },
    {
      "cell_type": "markdown",
      "metadata": {
        "id": "dhaI0vgZAmba"
      },
      "source": [
        "# Model Performance Validation"
      ]
    },
    {
      "cell_type": "markdown",
      "metadata": {
        "id": "lFVS-fqKFRFN"
      },
      "source": [
        "### Training and Testing Accuracy Over Time"
      ]
    },
    {
      "cell_type": "code",
      "metadata": {
        "colab": {
          "base_uri": "https://localhost:8080/",
          "height": 513
        },
        "id": "Tmru9ATHEDx1",
        "outputId": "1b30fdb8-b4ff-4abb-c9b5-72c4e9610752"
      },
      "source": [
        "plt.figure(figsize=(8,8))\n",
        "plt.plot(range(EPOCHS),train_accur, label='Baseline Model - Training Accuracy')\n",
        "plt.plot(range(EPOCHS),test_accur, label='Baseline Model - Testing Accuracy')\n",
        "\n",
        "plt.title('Training and Testing Accuracy vs Epochs')\n",
        "plt.xlabel('Epochs')\n",
        "plt.ylabel('Training Accuracy')\n",
        "plt.legend()\n",
        "plt.show()"
      ],
      "execution_count": 23,
      "outputs": [
        {
          "output_type": "display_data",
          "data": {
            "image/png": "[encoded data removed]",
            "text/plain": [
              "<Figure size 576x576 with 1 Axes>"
            ]
          },
          "metadata": {
            "needs_background": "light"
          }
        }
      ]
    },
    {
      "cell_type": "markdown",
      "metadata": {
        "id": "MB1hJUfWFW1O"
      },
      "source": [
        "### Calculate Accuracy, Precision, Recall, and F1"
      ]
    },
    {
      "cell_type": "code",
      "metadata": {
        "colab": {
          "base_uri": "https://localhost:8080/"
        },
        "id": "lj81FzKzK34F",
        "outputId": "64341fb1-4399-415e-c154-d2f08edb5886"
      },
      "source": [
        "# accuracy: (tp + tn) / (p + n)\n",
        "accuracy = accuracy_score(y_test, best_predictions)\n",
        "print('Accuracy: %f' % accuracy)\n",
        "# precision tp / (tp + fp)\n",
        "precision = precision_score(y_test, best_predictions)\n",
        "print('Precision: %f' % precision)\n",
        "# recall: tp / (tp + fn)\n",
        "recall = recall_score(y_test, best_predictions)\n",
        "print('Recall: %f' % recall)\n",
        "# f1: 2 tp / (2 tp + fp + fn)\n",
        "f1 = f1_score(y_test, best_predictions)\n",
        "print('F1 score: %f' % f1)"
      ],
      "execution_count": 24,
      "outputs": [
        {
          "output_type": "stream",
          "name": "stdout",
          "text": [
            "Accuracy: 0.860000\n",
            "Precision: 0.860000\n",
            "Recall: 0.860000\n",
            "F1 score: 0.860000\n"
          ]
        }
      ]
    },
    {
      "cell_type": "markdown",
      "metadata": {
        "id": "FMdXR1iVPGtc"
      },
      "source": [
        "### Calculate Confusion Matrix"
      ]
    },
    {
      "cell_type": "code",
      "metadata": {
        "colab": {
          "base_uri": "https://localhost:8080/",
          "height": 111
        },
        "id": "uUvwnBxYPTqe",
        "outputId": "ac35a6c2-29b3-4cac-a439-a8551ad765d8"
      },
      "source": [
        "unique_label = np.unique([y_test, best_predictions])\n",
        "cmtx = pd.DataFrame(\n",
        "    confusion_matrix(y_test, best_predictions, labels=unique_label), \n",
        "    index=['true:{:}'.format(x) for x in unique_label], \n",
        "    columns=['pred:{:}'.format(x) for x in unique_label]\n",
        ")\n",
        "\n",
        "cmtx"
      ],
      "execution_count": 25,
      "outputs": [
        {
          "output_type": "execute_result",
          "data": {
            "text/html": [
              "<div>\n",
              "<style scoped>\n",
              "    .dataframe tbody tr th:only-of-type {\n",
              "        vertical-align: middle;\n",
              "    }\n",
              "\n",
              "    .dataframe tbody tr th {\n",
              "        vertical-align: top;\n",
              "    }\n",
              "\n",
              "    .dataframe thead th {\n",
              "        text-align: right;\n",
              "    }\n",
              "</style>\n",
              "<table border=\"1\" class=\"dataframe\">\n",
              "  <thead>\n",
              "    <tr style=\"text-align: right;\">\n",
              "      <th></th>\n",
              "      <th>pred:0</th>\n",
              "      <th>pred:1</th>\n",
              "    </tr>\n",
              "  </thead>\n",
              "  <tbody>\n",
              "    <tr>\n",
              "      <th>true:0</th>\n",
              "      <td>172</td>\n",
              "      <td>28</td>\n",
              "    </tr>\n",
              "    <tr>\n",
              "      <th>true:1</th>\n",
              "      <td>28</td>\n",
              "      <td>172</td>\n",
              "    </tr>\n",
              "  </tbody>\n",
              "</table>\n",
              "</div>"
            ],
            "text/plain": [
              "        pred:0  pred:1\n",
              "true:0     172      28\n",
              "true:1      28     172"
            ]
          },
          "metadata": {},
          "execution_count": 25
        }
      ]
    },
    {
      "cell_type": "markdown",
      "metadata": {
        "id": "luS0EkXfRE09"
      },
      "source": [
        "### Calculate ROC"
      ]
    },
    {
      "cell_type": "code",
      "metadata": {
        "id": "gWizH5VlRG2L"
      },
      "source": [
        "fpr, tpr, thresholds = roc_curve(y_test, best_output_probs)\n",
        "auc = roc_auc_score(y_test, best_output_probs)"
      ],
      "execution_count": 26,
      "outputs": []
    },
    {
      "cell_type": "code",
      "metadata": {
        "colab": {
          "base_uri": "https://localhost:8080/",
          "height": 530
        },
        "id": "JBuDEEOZTlEE",
        "outputId": "1dc3ea2d-27a0-4fbf-df8a-98dee42b262b"
      },
      "source": [
        "plt.figure(figsize=(8,8))\n",
        "plt.plot(fpr, tpr, label='AUC score is: '+str(round(auc, 4)))\n",
        "plt.title('ROC Curve')\n",
        "plt.xlabel('False Positive Rate')\n",
        "plt.ylabel('True Positive Rate')\n",
        "plt.legend()"
      ],
      "execution_count": 27,
      "outputs": [
        {
          "output_type": "execute_result",
          "data": {
            "text/plain": [
              "<matplotlib.legend.Legend at 0x7f3b51cd90d0>"
            ]
          },
          "metadata": {},
          "execution_count": 27
        },
        {
          "output_type": "display_data",
          "data": {
            "image/png": "[encoded data removed]",
            "text/plain": [
              "<Figure size 576x576 with 1 Axes>"
            ]
          },
          "metadata": {
            "needs_background": "light"
          }
        }
      ]
    },
    {
      "cell_type": "code",
      "metadata": {
        "colab": {
          "base_uri": "https://localhost:8080/"
        },
        "id": "EUCMNKW-TpoB",
        "outputId": "f73f9e6e-abc8-4420-9a52-b55e44b0b609"
      },
      "source": [
        "auc"
      ],
      "execution_count": 28,
      "outputs": [
        {
          "output_type": "execute_result",
          "data": {
            "text/plain": [
              "0.9288250000000001"
            ]
          },
          "metadata": {},
          "execution_count": 28
        }
      ]
    },
    {
      "cell_type": "code",
      "metadata": {
        "id": "4IilUrKkUKb9"
      },
      "source": [
        ""
      ],
      "execution_count": null,
      "outputs": []
    }
  ]
}
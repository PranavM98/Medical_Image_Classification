{
  "nbformat": 4,
  "nbformat_minor": 0,
  "metadata": {
    "accelerator": "GPU",
    "colab": {
      "name": "03_Color_Jittering_Model.ipynb",
      "provenance": [],
      "collapsed_sections": [],
      "machine_shape": "hm"
    },
    "kernelspec": {
      "display_name": "Python 3",
      "language": "python",
      "name": "python3"
    },
    "language_info": {
      "codemirror_mode": {
        "name": "ipython",
        "version": 3
      },
      "file_extension": ".py",
      "mimetype": "text/x-python",
      "name": "python",
      "nbconvert_exporter": "python",
      "pygments_lexer": "ipython3",
      "version": "3.8.3"
    }
  },
  "cells": [
    {
      "cell_type": "markdown",
      "metadata": {
        "id": "lv6KVCwAfvM5"
      },
      "source": [
        "# Differential Data Augmentation Techniques for Medical Imaging Classification\n",
        "#### Baseline Model Notebook"
      ]
    },
    {
      "cell_type": "markdown",
      "metadata": {
        "id": "EsEcf1Y5f5CV"
      },
      "source": [
        "## Import Packages"
      ]
    },
    {
      "cell_type": "code",
      "metadata": {
        "id": "CCo1efWtbIKq"
      },
      "source": [
        "import torch\n",
        "import torchvision\n",
        "import numpy as np\n",
        "import matplotlib.pyplot as plt\n",
        "import torch.nn as nn\n",
        "import torch.nn.functional as F\n",
        "from torchvision.datasets import CIFAR10\n",
        "from torchvision.transforms import ToTensor\n",
        "import torchvision.transforms as T\n",
        "from torchvision.utils import make_grid\n",
        "from torch.utils.data.dataloader import DataLoader, Dataset\n",
        "from torch.utils.data import random_split, TensorDataset, DataLoader\n",
        "%matplotlib inline\n",
        "from torchvision import transforms\n",
        "from torchvision.utils import save_image\n",
        "import torch.optim as optim\n",
        "from sklearn.model_selection import train_test_split\n",
        "import pandas as pd\n",
        "from PIL import Image\n",
        "\n",
        "# Imports for plotting\n",
        "from matplotlib import pyplot as plt\n",
        "from sklearn.metrics import precision_recall_curve\n",
        "\n",
        "# Imports for Loading Data\n",
        "import tensorflow as tf\n",
        "import cv2\n",
        "\n",
        "# Imports for Model Validations\n",
        "from sklearn.metrics import accuracy_score, precision_score, roc_curve\n",
        "from sklearn.metrics import recall_score, f1_score, confusion_matrix, roc_auc_score"
      ],
      "execution_count": 1,
      "outputs": []
    },
    {
      "cell_type": "markdown",
      "metadata": {
        "id": "USMjXdr7bsOM"
      },
      "source": [
        "# Data Wrangling"
      ]
    },
    {
      "cell_type": "code",
      "metadata": {
        "id": "yvAXh5phcLsc"
      },
      "source": [
        "images=[]\n",
        "labels=[]\n",
        "feature_dictionary = {\n",
        "    'label': tf.io.FixedLenFeature([], tf.int64),\n",
        "    'label_normal': tf.io.FixedLenFeature([], tf.int64),\n",
        "    'image': tf.io.FixedLenFeature([], tf.string)\n",
        "    }"
      ],
      "execution_count": 2,
      "outputs": []
    },
    {
      "cell_type": "code",
      "metadata": {
        "id": "Gxhb_dB4cMqx"
      },
      "source": [
        "def _parse_function(example, feature_dictionary=feature_dictionary):\n",
        "    parsed_example = tf.io.parse_example(example, feature_dictionary)\n",
        "    return parsed_example\n",
        "\n",
        "def read_data(filename):\n",
        "    full_dataset = tf.data.TFRecordDataset(filename,num_parallel_reads=tf.data.experimental.AUTOTUNE)\n",
        "    full_dataset = full_dataset.shuffle(buffer_size=31000)\n",
        "    full_dataset = full_dataset.cache()\n",
        "    print(\"Size of Training Dataset: \", len(list(full_dataset)))\n",
        "    \n",
        "    feature_dictionary = {\n",
        "    'label': tf.io.FixedLenFeature([], tf.int64),\n",
        "    'label_normal': tf.io.FixedLenFeature([], tf.int64),\n",
        "    'image': tf.io.FixedLenFeature([], tf.string)\n",
        "    }   \n",
        "\n",
        "    full_dataset = full_dataset.map(_parse_function, num_parallel_calls=tf.data.experimental.AUTOTUNE)\n",
        "    print(full_dataset)\n",
        "    for image_features in full_dataset:\n",
        "        image = image_features['image'].numpy()\n",
        "        image = tf.io.decode_raw(image_features['image'], tf.uint8)\n",
        "        image = tf.reshape(image, [299, 299])        \n",
        "        image=image.numpy()\n",
        "        image=cv2.resize(image,(224,224))\n",
        "        image=cv2.merge([image,image,image])        \n",
        "        #plt.imshow(image)\n",
        "        images.append(image)\n",
        "        labels.append(image_features['label_normal'].numpy())"
      ],
      "execution_count": 3,
      "outputs": []
    },
    {
      "cell_type": "code",
      "metadata": {
        "colab": {
          "base_uri": "https://localhost:8080/"
        },
        "id": "Uq_OBcvscVJr",
        "outputId": "5ea4e1b0-b3c3-4e23-8871-08725be4b4a6"
      },
      "source": [
        "from google.colab import drive\n",
        "drive.mount('/content/drive')"
      ],
      "execution_count": 4,
      "outputs": [
        {
          "output_type": "stream",
          "name": "stdout",
          "text": [
            "Drive already mounted at /content/drive; to attempt to forcibly remount, call drive.mount(\"/content/drive\", force_remount=True).\n"
          ]
        }
      ]
    },
    {
      "cell_type": "code",
      "metadata": {
        "colab": {
          "base_uri": "https://localhost:8080/"
        },
        "id": "haaG-u3pcVOI",
        "outputId": "1441856c-6fa7-437e-cfc2-67556dbf7547"
      },
      "source": [
        "filenames=['/content/drive/MyDrive/Colab Notebooks/ECE_661_Final_Project_Data/training10_0.tfrecords'\n",
        "         # ,'/content/drive/MyDrive/Colab Notebooks/ECE661_FinalProject/Data/training10_1.tfrecords'\n",
        "         # ,'/content/drive/MyDrive/Colab Notebooks/ECE661_FinalProject/Data/training10_2.tfrecords'\n",
        "         # ,'/content/drive/MyDrive/Colab Notebooks/ECE661_FinalProject/Data/training10_3.tfrecords'\n",
        "         # ,'/content/drive/MyDrive/Colab Notebooks/ECE661_FinalProject/Data/training10_4.tfrecords'\n",
        "         ]\n",
        "\n",
        "for file in filenames:\n",
        "    read_data(file)\n",
        "    \n",
        "print(len(images))\n",
        "print(len(labels))"
      ],
      "execution_count": 5,
      "outputs": [
        {
          "output_type": "stream",
          "name": "stdout",
          "text": [
            "Size of Training Dataset:  11177\n",
            "<ParallelMapDataset shapes: {image: (), label: (), label_normal: ()}, types: {image: tf.string, label: tf.int64, label_normal: tf.int64}>\n",
            "11177\n",
            "11177\n"
          ]
        }
      ]
    },
    {
      "cell_type": "markdown",
      "metadata": {
        "id": "p_7Inm7QgsCn"
      },
      "source": [
        "## Create Train-Val-Test Split "
      ]
    },
    {
      "cell_type": "markdown",
      "metadata": {
        "id": "SI9Rl9Zh7SwF"
      },
      "source": [
        "### Get 1000 True cases and 1000 False cases"
      ]
    },
    {
      "cell_type": "code",
      "metadata": {
        "colab": {
          "base_uri": "https://localhost:8080/"
        },
        "id": "gbIOOcrz3Lmb",
        "outputId": "7acd2646-d410-4ecf-9d9a-79aca8d15af2"
      },
      "source": [
        "Y = pd.DataFrame({'Y':labels})\n",
        "true_cases = list(Y[Y['Y'] == 1].copy().index)[0:1000]\n",
        "false_cases = list(Y[Y['Y'] == 0].copy().index)[0:1000]\n",
        "ind = true_cases + false_cases\n",
        "print(len(ind))"
      ],
      "execution_count": 6,
      "outputs": [
        {
          "output_type": "stream",
          "name": "stdout",
          "text": [
            "2000\n"
          ]
        }
      ]
    },
    {
      "cell_type": "code",
      "metadata": {
        "id": "TUqPe4io5eck"
      },
      "source": [
        "y = np.array([labels[i] for i in ind])\n",
        "X = np.array([images[i] for i in ind])"
      ],
      "execution_count": 7,
      "outputs": []
    },
    {
      "cell_type": "code",
      "metadata": {
        "id": "58p2I6Ijgwv9"
      },
      "source": [
        "x_train, x_test, y_train, y_test = train_test_split(X, y, test_size=0.2, stratify=y ,random_state=2021,shuffle=True)"
      ],
      "execution_count": 8,
      "outputs": []
    },
    {
      "cell_type": "code",
      "metadata": {
        "colab": {
          "base_uri": "https://localhost:8080/"
        },
        "id": "_bvEqL7xirfE",
        "outputId": "7754f2ab-2d11-4a74-b08d-416259ac1152"
      },
      "source": [
        "print('80-20 Split')\n",
        "print('X-Train Shape: ', x_train.shape)\n",
        "print('X-Test Shape: ', x_test.shape)"
      ],
      "execution_count": 9,
      "outputs": [
        {
          "output_type": "stream",
          "name": "stdout",
          "text": [
            "80-20 Split\n",
            "X-Train Shape:  (1600, 224, 224, 3)\n",
            "X-Test Shape:  (400, 224, 224, 3)\n"
          ]
        }
      ]
    },
    {
      "cell_type": "markdown",
      "metadata": {
        "id": "ejSSRc1yCR44"
      },
      "source": [
        "### Create Custom Tensor Dataset (To Allow for Transform data augmentation techniques)"
      ]
    },
    {
      "cell_type": "code",
      "metadata": {
        "id": "LAA43m---p6Q"
      },
      "source": [
        "class CustomTensorDataset(Dataset):\n",
        "    \"\"\"TensorDataset with support of transforms.\n",
        "    \"\"\"\n",
        "    def __init__(self, tensors, transform=None):\n",
        "        assert all(tensors[0].size(0) == tensor.size(0) for tensor in tensors)\n",
        "        self.tensors = tensors\n",
        "        self.transform = transform\n",
        "\n",
        "    def __getitem__(self, index):\n",
        "        x = self.tensors[0][index]\n",
        "\n",
        "        if self.transform:\n",
        "            x = self.transform(x)\n",
        "\n",
        "        y = self.tensors[1][index]\n",
        "\n",
        "        return x, y\n",
        "\n",
        "    def __len__(self):\n",
        "        return self.tensors[0].size(0)\n"
      ],
      "execution_count": 10,
      "outputs": []
    },
    {
      "cell_type": "markdown",
      "metadata": {
        "id": "M8NJCqvHEPFg"
      },
      "source": [
        "### Create a Class for Jittering"
      ]
    },
    {
      "cell_type": "markdown",
      "metadata": {
        "id": "MeGiJcp5BEg7"
      },
      "source": [
        "### Calculate Mean and Std For Transform Method"
      ]
    },
    {
      "cell_type": "code",
      "metadata": {
        "id": "QFQQcl990hNB"
      },
      "source": [
        "# nimages = 0\n",
        "# mean = 0.0\n",
        "# var = 0.0\n",
        "\n",
        "# for i_batch, batch_target in enumerate(train_dataloader):\n",
        "#     batch = batch_target[0]\n",
        "#     # Rearrange batch to be the shape of [B, C, W * H]\n",
        "#     batch = batch.view(batch.size(0), batch.size(1), -1)\n",
        "#     # Update total number of images\n",
        "#     nimages += batch.size(0)\n",
        "#     # Compute mean and std here\n",
        "#     mean += batch.mean(2).sum(0) \n",
        "#     var += batch.var(2).sum(0)\n",
        "\n",
        "# mean /= nimages\n",
        "# var /= nimages\n",
        "# std = torch.sqrt(var)\n",
        "\n",
        "# print(mean)\n",
        "# print(std)"
      ],
      "execution_count": 11,
      "outputs": []
    },
    {
      "cell_type": "markdown",
      "metadata": {
        "id": "_idndniW1kje"
      },
      "source": [
        "Normalization Metrics from running the above code snippet: \n",
        "\n",
        "Mean: tensor([105.7823, 105.7823, 105.7823])\n",
        "\n",
        "\n",
        "Std: tensor([26.6096, 26.6096, 26.6096])"
      ]
    },
    {
      "cell_type": "code",
      "metadata": {
        "id": "2Xvvl32LsYPX"
      },
      "source": [
        "# Define preprocessing\n",
        "trsfm = transforms.Compose([\n",
        "                            \n",
        "        transforms.ToPILImage(),\n",
        "        transforms.ToTensor(),\n",
        "        transforms.Normalize((105.7823, 105.7823, 105.7823), (26.6096, 26.6096, 26.6096)),\n",
        "        T.ColorJitter(brightness=1, contrast=1, saturation=1, hue=0.3)\n",
        "        ])\n",
        "\n",
        "# Train\n",
        "tensor_trainX = torch.Tensor(x_train) # transform to torch tensor\n",
        "tensor_trainY = torch.Tensor(y_train)\n",
        "tensor_trainX = tensor_trainX.permute(0, 3, 1, 2)\n",
        "\n",
        "# Test\n",
        "tensor_testX = torch.Tensor(x_test) # transform to torch tensor\n",
        "tensor_testY = torch.Tensor(y_test)\n",
        "tensor_testX = tensor_testX.permute(0, 3, 1, 2)"
      ],
      "execution_count": 12,
      "outputs": []
    },
    {
      "cell_type": "code",
      "metadata": {
        "id": "6NkPTeYzdosd"
      },
      "source": [
        "train_tensor = CustomTensorDataset(tensors=(tensor_trainX,tensor_trainY), transform=trsfm) # create your datset\n",
        "train_dataloader = DataLoader(train_tensor, batch_size=64, shuffle=True) # create your dataloader\n",
        "\n",
        "test_tensor = CustomTensorDataset(tensors=(tensor_testX,tensor_testY), transform=None) # create your datset\n",
        "test_dataloader = DataLoader(test_tensor, batch_size=64, shuffle=False) # create your dataloader"
      ],
      "execution_count": 13,
      "outputs": []
    },
    {
      "cell_type": "markdown",
      "metadata": {
        "id": "l36qmFMWsxX5"
      },
      "source": [
        "## Create VGG16 model"
      ]
    },
    {
      "cell_type": "code",
      "metadata": {
        "id": "HZhbojQ6syWs"
      },
      "source": [
        "class VGG16(nn.Module):\n",
        "    def __init__(self):\n",
        "        super(VGG16, self).__init__()\n",
        "        self.conv1_1 = nn.Conv2d(in_channels=3, out_channels=64, kernel_size=3, padding=1)\n",
        "        self.conv1_2 = nn.Conv2d(in_channels=64, out_channels=64, kernel_size=3, padding=1)\n",
        "\n",
        "        self.conv2_1 = nn.Conv2d(in_channels=64, out_channels=128, kernel_size=3, padding=1)\n",
        "        self.conv2_2 = nn.Conv2d(in_channels=128, out_channels=128, kernel_size=3, padding=1)\n",
        "\n",
        "        self.conv3_1 = nn.Conv2d(in_channels=128, out_channels=256, kernel_size=3, padding=1)\n",
        "        self.conv3_2 = nn.Conv2d(in_channels=256, out_channels=256, kernel_size=3, padding=1)\n",
        "        self.conv3_3 = nn.Conv2d(in_channels=256, out_channels=256, kernel_size=3, padding=1)\n",
        "\n",
        "        self.conv4_1 = nn.Conv2d(in_channels=256, out_channels=512, kernel_size=3, padding=1)\n",
        "        self.conv4_2 = nn.Conv2d(in_channels=512, out_channels=512, kernel_size=3, padding=1)\n",
        "        self.conv4_3 = nn.Conv2d(in_channels=512, out_channels=512, kernel_size=3, padding=1)\n",
        "\n",
        "        self.conv5_1 = nn.Conv2d(in_channels=512, out_channels=512, kernel_size=3, padding=1)\n",
        "        self.conv5_2 = nn.Conv2d(in_channels=512, out_channels=512, kernel_size=3, padding=1)\n",
        "        self.conv5_3 = nn.Conv2d(in_channels=512, out_channels=512, kernel_size=3, padding=1)\n",
        "\n",
        "        self.maxpool = nn.MaxPool2d(kernel_size=2, stride=2)\n",
        "\n",
        "        self.fc1 = nn.Linear(25088, 4096)\n",
        "        self.fc2 = nn.Linear(4096, 1000)\n",
        "        self.fc3 = nn.Linear(1000, 2)\n",
        "\n",
        "    def forward(self, x):\n",
        "        x = F.relu(self.conv1_1(x))\n",
        "        x = F.relu(self.conv1_2(x))\n",
        "        x = self.maxpool(x)\n",
        "        x = F.relu(self.conv2_1(x))\n",
        "        x = F.relu(self.conv2_2(x))\n",
        "        x = self.maxpool(x)\n",
        "        x = F.relu(self.conv3_1(x))\n",
        "        x = F.relu(self.conv3_2(x))\n",
        "        x = F.relu(self.conv3_3(x))\n",
        "        x = self.maxpool(x)\n",
        "        x = F.relu(self.conv4_1(x))\n",
        "        x = F.relu(self.conv4_2(x))\n",
        "        x = F.relu(self.conv4_3(x))\n",
        "        x = self.maxpool(x)\n",
        "        x = F.relu(self.conv5_1(x))\n",
        "        x = F.relu(self.conv5_2(x))\n",
        "        x = F.relu(self.conv5_3(x))\n",
        "        x = self.maxpool(x)\n",
        "        x = x.reshape(x.shape[0], -1)\n",
        "        x = F.relu(self.fc1(x))\n",
        "        x = F.dropout(x, 0.5) #dropout was included to combat overfitting\n",
        "        x = F.relu(self.fc2(x))\n",
        "        x = F.dropout(x, 0.5)\n",
        "        x = self.fc3(x)\n",
        "        return x"
      ],
      "execution_count": 14,
      "outputs": []
    },
    {
      "cell_type": "markdown",
      "metadata": {
        "id": "Ks3lUzedbY_5"
      },
      "source": [
        "## Prepare model for Training"
      ]
    },
    {
      "cell_type": "code",
      "metadata": {
        "id": "CRevMW3ea2-0"
      },
      "source": [
        "device = torch.device('cuda' if torch.cuda.is_available() else 'cpu') #training with either cpu or cuda\n",
        "\n",
        "model = VGG16() #to compile the model\n",
        "model = model.to(device=device) #to send the model for training on either cuda or cpu\n",
        "\n",
        "## Loss and optimizer\n",
        "learning_rate = 1e-4 #I picked this because it seems to be the most used by experts\n",
        "l2_reg = 1e-7\n",
        "\n",
        "load_model = True\n",
        "criterion = nn.CrossEntropyLoss().to(device)\n",
        "optimizer = optim.Adam(model.parameters(), lr= learning_rate, weight_decay=l2_reg) #Adam seems to be the most popular for deep learning"
      ],
      "execution_count": 15,
      "outputs": []
    },
    {
      "cell_type": "markdown",
      "metadata": {
        "id": "93A_gWKubmG3"
      },
      "source": [
        "## Training"
      ]
    },
    {
      "cell_type": "code",
      "metadata": {
        "colab": {
          "base_uri": "https://localhost:8080/"
        },
        "id": "w84GaoSuN9yf",
        "outputId": "8765a956-42b7-46a3-a0b3-5dff27d0663a"
      },
      "source": [
        "# some hyperparameters\n",
        "# total number of training epochs\n",
        "EPOCHS = 50\n",
        "\n",
        "# start the training/validation process\n",
        "# the process should take about 5 minutes on a GTX 1070-Ti\n",
        "# if the code is written efficiently.\n",
        "best_val_acc = 0\n",
        "train_accur = []\n",
        "test_accur = []\n",
        "\n",
        "best_predictions = []\n",
        "best_output_probs = []\n",
        "\n",
        "print(\"==> Training starts!\")\n",
        "print(\"=\"*50)\n",
        "for i in range(0, EPOCHS):\n",
        "\n",
        "    all_predictions = []\n",
        "    all_outputs = []    \n",
        "    #######################\n",
        "    # your code here\n",
        "    # switch to train mode\n",
        "    model.train()\n",
        "    #######################\n",
        "    \n",
        "    print(\"Epoch %d:\" %i)\n",
        "    # this help you compute the training accuracy\n",
        "    total_examples = 0\n",
        "    correct_examples = 0\n",
        "\n",
        "    train_loss = 0 # track training loss if you want\n",
        "    \n",
        "    # Train the model for 1 epoch.\n",
        "    for batch_idx, (inputs, targets) in enumerate(train_dataloader):\n",
        "        ####################################\n",
        "        # your code here\n",
        "        # copy inputs to device\n",
        "        # Convert to Pytorch (N, C, H, W)\n",
        "        #inputs = inputs.permute(0, 3, 1, 2)\n",
        "        images = inputs.to(device)\n",
        "        # print(batch_idx)\n",
        "        # print(images.shape)\n",
        "\n",
        "        targets = targets.to(device=device).long()\n",
        "        \n",
        "        # compute the output and loss\n",
        "        outputs = model(images)\n",
        "        loss = criterion(outputs, targets)\n",
        "        \n",
        "        # zero the gradient\n",
        "        optimizer.zero_grad()\n",
        "        \n",
        "        # backpropagation\n",
        "        loss.backward()\n",
        "        \n",
        "        # apply gradient and update the weights\n",
        "        optimizer.step()\n",
        "        _, predicted = torch.max(outputs, 1)\n",
        "        \n",
        "        # count the number of correctly predicted samples in the current batch\n",
        "        correct = predicted.eq(targets).sum()\n",
        "        \n",
        "        total_examples += targets.shape[0]\n",
        "        train_loss += loss\n",
        "        correct_examples += correct.item()\n",
        "        \n",
        "        ####################################\n",
        "    \n",
        "    avg_loss = train_loss / len(train_dataloader)\n",
        "    avg_acc = correct_examples / total_examples\n",
        "    print(\"Training loss: %.4f, Training accuracy: %.4f\" %(avg_loss, avg_acc))\n",
        "    train_accur.append(avg_acc)\n",
        "\n",
        "    # Validate on the validation dataset\n",
        "    #######################\n",
        "    # your code here\n",
        "    # switch to eval mode\n",
        "    model.eval()\n",
        "    \n",
        "    #######################\n",
        "\n",
        "    # this help you compute the validation accuracy\n",
        "    total_examples = 0\n",
        "    correct_examples = 0\n",
        "    \n",
        "    val_loss = 0 # again, track the validation loss if you want\n",
        "\n",
        "    # disable gradient during validation, which can save GPU memory\n",
        "    with torch.no_grad():\n",
        "        for batch_idx, (inputs, targets) in enumerate(test_dataloader):\n",
        "            ####################################\n",
        "            # your code here\n",
        "            # copy inputs to device\n",
        "            # Convert to Pytorch (N, C, H, W)\n",
        "            #inputs = inputs.permute(0, 3, 1, 2)\n",
        "            images = inputs.to(device)\n",
        "\n",
        "            targets = targets.to(device=device).long()\n",
        "            \n",
        "            # compute the output and loss\n",
        "            outputs = model(images)\n",
        "            all_outputs.append(outputs[:,1].cpu().numpy())\n",
        "\n",
        "\n",
        "            loss = criterion(outputs, targets)\n",
        "            \n",
        "            # count the number of correctly predicted samples in the current batch\n",
        "            _, predicted = torch.max(outputs, 1)\n",
        "            correct = predicted.eq(targets).sum()\n",
        "            all_predictions.append(predicted.cpu().numpy())\n",
        "\n",
        "            total_examples += targets.shape[0]\n",
        "            val_loss += loss\n",
        "            correct_examples += correct.item()\n",
        "            \n",
        "            ####################################\n",
        "    \n",
        "    avg_loss = val_loss / len(test_dataloader)\n",
        "    avg_acc = correct_examples / total_examples\n",
        "    print(\"Validation loss: %.4f, Validation accuracy: %.4f\" % (avg_loss, avg_acc))\n",
        "    test_accur.append(avg_acc)\n",
        "\n",
        "    # save the model checkpoint\n",
        "    if avg_acc > best_val_acc:\n",
        "        best_val_acc = avg_acc\n",
        "\n",
        "        all_predictions = np.concatenate(all_predictions).ravel()\n",
        "        best_predictions = all_predictions\n",
        "\n",
        "        all_outputs = np.concatenate(all_outputs).ravel()\n",
        "        best_output_probs = all_outputs\n",
        "\n",
        "        print(\"Saving ...\")\n",
        "        state = {'state_dict': model.state_dict(),\n",
        "                 'epoch': i,\n",
        "                 'lr': learning_rate}\n",
        "        torch.save(state,'baseline_model.pth')\n",
        "        \n",
        "    print('')\n",
        "\n",
        "print(\"=\"*50)\n",
        "print(f\"==> Optimization finished! Best validation accuracy: {best_val_acc:.4f}\")"
      ],
      "execution_count": 16,
      "outputs": [
        {
          "output_type": "stream",
          "name": "stdout",
          "text": [
            "==> Training starts!\n",
            "==================================================\n",
            "Epoch 0:\n",
            "Training loss: 0.6937, Training accuracy: 0.4788\n",
            "Validation loss: 0.6924, Validation accuracy: 0.4675\n",
            "Saving ...\n",
            "\n",
            "Epoch 1:\n",
            "Training loss: 0.6933, Training accuracy: 0.4819\n",
            "Validation loss: 0.6931, Validation accuracy: 0.5125\n",
            "Saving ...\n",
            "\n",
            "Epoch 2:\n",
            "Training loss: 0.6933, Training accuracy: 0.4800\n",
            "Validation loss: 0.6932, Validation accuracy: 0.5150\n",
            "Saving ...\n",
            "\n",
            "Epoch 3:\n",
            "Training loss: 0.6932, Training accuracy: 0.4913\n",
            "Validation loss: 0.6932, Validation accuracy: 0.5275\n",
            "Saving ...\n",
            "\n",
            "Epoch 4:\n",
            "Training loss: 0.6933, Training accuracy: 0.4863\n",
            "Validation loss: 0.6931, Validation accuracy: 0.5475\n",
            "Saving ...\n",
            "\n",
            "Epoch 5:\n",
            "Training loss: 0.6932, Training accuracy: 0.4956\n",
            "Validation loss: 0.6930, Validation accuracy: 0.5175\n",
            "\n",
            "Epoch 6:\n",
            "Training loss: 0.6931, Training accuracy: 0.5081\n",
            "Validation loss: 0.6933, Validation accuracy: 0.4950\n",
            "\n",
            "Epoch 7:\n",
            "Training loss: 0.6934, Training accuracy: 0.4763\n",
            "Validation loss: 0.6933, Validation accuracy: 0.4775\n",
            "\n",
            "Epoch 8:\n",
            "Training loss: 0.6933, Training accuracy: 0.4963\n",
            "Validation loss: 0.6933, Validation accuracy: 0.5025\n",
            "\n",
            "Epoch 9:\n",
            "Training loss: 0.6932, Training accuracy: 0.4900\n",
            "Validation loss: 0.6934, Validation accuracy: 0.4775\n",
            "\n",
            "Epoch 10:\n",
            "Training loss: 0.6932, Training accuracy: 0.4981\n",
            "Validation loss: 0.6934, Validation accuracy: 0.4975\n",
            "\n",
            "Epoch 11:\n",
            "Training loss: 0.6931, Training accuracy: 0.5056\n",
            "Validation loss: 0.6930, Validation accuracy: 0.4900\n",
            "\n",
            "Epoch 12:\n",
            "Training loss: 0.6930, Training accuracy: 0.5194\n",
            "Validation loss: 0.6932, Validation accuracy: 0.4675\n",
            "\n",
            "Epoch 13:\n",
            "Training loss: 0.6932, Training accuracy: 0.4938\n",
            "Validation loss: 0.6933, Validation accuracy: 0.4925\n",
            "\n",
            "Epoch 14:\n",
            "Training loss: 0.6932, Training accuracy: 0.4944\n",
            "Validation loss: 0.6934, Validation accuracy: 0.4950\n",
            "\n",
            "Epoch 15:\n",
            "Training loss: 0.6931, Training accuracy: 0.5006\n",
            "Validation loss: 0.6933, Validation accuracy: 0.4950\n",
            "\n",
            "Epoch 16:\n",
            "Training loss: 0.6932, Training accuracy: 0.4975\n",
            "Validation loss: 0.6931, Validation accuracy: 0.5200\n",
            "\n",
            "Epoch 17:\n",
            "Training loss: 0.6932, Training accuracy: 0.4863\n",
            "Validation loss: 0.6934, Validation accuracy: 0.4725\n",
            "\n",
            "Epoch 18:\n",
            "Training loss: 0.6934, Training accuracy: 0.4856\n",
            "Validation loss: 0.6930, Validation accuracy: 0.5100\n",
            "\n",
            "Epoch 19:\n",
            "Training loss: 0.6934, Training accuracy: 0.4900\n",
            "Validation loss: 0.6929, Validation accuracy: 0.5150\n",
            "\n",
            "Epoch 20:\n",
            "Training loss: 0.6931, Training accuracy: 0.5094\n",
            "Validation loss: 0.6936, Validation accuracy: 0.4400\n",
            "\n",
            "Epoch 21:\n",
            "Training loss: 0.6932, Training accuracy: 0.4925\n",
            "Validation loss: 0.6933, Validation accuracy: 0.4775\n",
            "\n",
            "Epoch 22:\n",
            "Training loss: 0.6932, Training accuracy: 0.5019\n",
            "Validation loss: 0.6932, Validation accuracy: 0.5175\n",
            "\n",
            "Epoch 23:\n",
            "Training loss: 0.6933, Training accuracy: 0.4913\n",
            "Validation loss: 0.6932, Validation accuracy: 0.5150\n",
            "\n",
            "Epoch 24:\n",
            "Training loss: 0.6931, Training accuracy: 0.5094\n",
            "Validation loss: 0.6934, Validation accuracy: 0.5050\n",
            "\n",
            "Epoch 25:\n",
            "Training loss: 0.6931, Training accuracy: 0.4794\n",
            "Validation loss: 0.6931, Validation accuracy: 0.5325\n",
            "\n",
            "Epoch 26:\n",
            "Training loss: 0.6935, Training accuracy: 0.4825\n",
            "Validation loss: 0.6932, Validation accuracy: 0.4950\n",
            "\n",
            "Epoch 27:\n",
            "Training loss: 0.6931, Training accuracy: 0.5000\n",
            "Validation loss: 0.6931, Validation accuracy: 0.5150\n",
            "\n",
            "Epoch 28:\n",
            "Training loss: 0.6931, Training accuracy: 0.5081\n",
            "Validation loss: 0.6929, Validation accuracy: 0.5350\n",
            "\n",
            "Epoch 29:\n",
            "Training loss: 0.6931, Training accuracy: 0.5044\n",
            "Validation loss: 0.6931, Validation accuracy: 0.5025\n",
            "\n",
            "Epoch 30:\n",
            "Training loss: 0.6931, Training accuracy: 0.4844\n",
            "Validation loss: 0.6932, Validation accuracy: 0.5300\n",
            "\n",
            "Epoch 31:\n",
            "Training loss: 0.6933, Training accuracy: 0.4831\n",
            "Validation loss: 0.6934, Validation accuracy: 0.4650\n",
            "\n",
            "Epoch 32:\n",
            "Training loss: 0.6932, Training accuracy: 0.4894\n",
            "Validation loss: 0.6934, Validation accuracy: 0.5150\n",
            "\n",
            "Epoch 33:\n",
            "Training loss: 0.6934, Training accuracy: 0.4831\n",
            "Validation loss: 0.6929, Validation accuracy: 0.5375\n",
            "\n",
            "Epoch 34:\n",
            "Training loss: 0.6932, Training accuracy: 0.4950\n",
            "Validation loss: 0.6928, Validation accuracy: 0.5025\n",
            "\n",
            "Epoch 35:\n",
            "Training loss: 0.6935, Training accuracy: 0.4794\n",
            "Validation loss: 0.6931, Validation accuracy: 0.5000\n",
            "\n",
            "Epoch 36:\n",
            "Training loss: 0.6932, Training accuracy: 0.4806\n",
            "Validation loss: 0.6929, Validation accuracy: 0.4775\n",
            "\n",
            "Epoch 37:\n",
            "Training loss: 0.6933, Training accuracy: 0.4731\n",
            "Validation loss: 0.6934, Validation accuracy: 0.4750\n",
            "\n",
            "Epoch 38:\n",
            "Training loss: 0.6933, Training accuracy: 0.5025\n",
            "Validation loss: 0.6929, Validation accuracy: 0.5125\n",
            "\n",
            "Epoch 39:\n",
            "Training loss: 0.6932, Training accuracy: 0.4913\n",
            "Validation loss: 0.6932, Validation accuracy: 0.5050\n",
            "\n",
            "Epoch 40:\n",
            "Training loss: 0.6932, Training accuracy: 0.4831\n",
            "Validation loss: 0.6928, Validation accuracy: 0.5175\n",
            "\n",
            "Epoch 41:\n",
            "Training loss: 0.6931, Training accuracy: 0.4994\n",
            "Validation loss: 0.6930, Validation accuracy: 0.5125\n",
            "\n",
            "Epoch 42:\n",
            "Training loss: 0.6931, Training accuracy: 0.5056\n",
            "Validation loss: 0.6931, Validation accuracy: 0.4950\n",
            "\n",
            "Epoch 43:\n",
            "Training loss: 0.6933, Training accuracy: 0.4838\n",
            "Validation loss: 0.6932, Validation accuracy: 0.5075\n",
            "\n",
            "Epoch 44:\n",
            "Training loss: 0.6931, Training accuracy: 0.5056\n",
            "Validation loss: 0.6932, Validation accuracy: 0.4625\n",
            "\n",
            "Epoch 45:\n",
            "Training loss: 0.6931, Training accuracy: 0.5162\n",
            "Validation loss: 0.6930, Validation accuracy: 0.4925\n",
            "\n",
            "Epoch 46:\n",
            "Training loss: 0.6931, Training accuracy: 0.5125\n",
            "Validation loss: 0.6931, Validation accuracy: 0.5350\n",
            "\n",
            "Epoch 47:\n",
            "Training loss: 0.6933, Training accuracy: 0.4850\n",
            "Validation loss: 0.6929, Validation accuracy: 0.5100\n",
            "\n",
            "Epoch 48:\n",
            "Training loss: 0.6933, Training accuracy: 0.4975\n",
            "Validation loss: 0.6929, Validation accuracy: 0.5250\n",
            "\n",
            "Epoch 49:\n",
            "Training loss: 0.6930, Training accuracy: 0.5188\n",
            "Validation loss: 0.6930, Validation accuracy: 0.5300\n",
            "\n",
            "==================================================\n",
            "==> Optimization finished! Best validation accuracy: 0.5475\n"
          ]
        }
      ]
    },
    {
      "cell_type": "markdown",
      "metadata": {
        "id": "dhaI0vgZAmba"
      },
      "source": [
        "# Model Performance Validation"
      ]
    },
    {
      "cell_type": "markdown",
      "metadata": {
        "id": "lFVS-fqKFRFN"
      },
      "source": [
        "### Training and Testing Accuracy Over Time"
      ]
    },
    {
      "cell_type": "code",
      "metadata": {
        "colab": {
          "base_uri": "https://localhost:8080/",
          "height": 513
        },
        "id": "Tmru9ATHEDx1",
        "outputId": "fe9d9c3d-7375-4646-f6c3-ad2827915f14"
      },
      "source": [
        "plt.figure(figsize=(8,8))\n",
        "plt.plot(range(EPOCHS),train_accur, label='Baseline Model - Training Accuracy')\n",
        "plt.plot(range(EPOCHS),test_accur, label='Baseline Model - Testing Accuracy')\n",
        "\n",
        "plt.title('Training and Testing Accuracy vs Epochs')\n",
        "plt.xlabel('Epochs')\n",
        "plt.ylabel('Training Accuracy')\n",
        "plt.legend()\n",
        "plt.show()"
      ],
      "execution_count": 17,
      "outputs": [
        {
          "output_type": "display_data",
          "data": {
            "image/png": "[encoded data removed]",
            "text/plain": [
              "<Figure size 576x576 with 1 Axes>"
            ]
          },
          "metadata": {
            "needs_background": "light"
          }
        }
      ]
    },
    {
      "cell_type": "markdown",
      "metadata": {
        "id": "MB1hJUfWFW1O"
      },
      "source": [
        "### Calculate Accuracy, Precision, Recall, and F1"
      ]
    },
    {
      "cell_type": "code",
      "metadata": {
        "colab": {
          "base_uri": "https://localhost:8080/"
        },
        "id": "lj81FzKzK34F",
        "outputId": "66ac7283-a29b-4a12-8b03-595181dd7d2b"
      },
      "source": [
        "# accuracy: (tp + tn) / (p + n)\n",
        "accuracy = accuracy_score(y_test, best_predictions)\n",
        "print('Accuracy: %f' % accuracy)\n",
        "# precision tp / (tp + fp)\n",
        "precision = precision_score(y_test, best_predictions)\n",
        "print('Precision: %f' % precision)\n",
        "# recall: tp / (tp + fn)\n",
        "recall = recall_score(y_test, best_predictions)\n",
        "print('Recall: %f' % recall)\n",
        "# f1: 2 tp / (2 tp + fp + fn)\n",
        "f1 = f1_score(y_test, best_predictions)\n",
        "print('F1 score: %f' % f1)"
      ],
      "execution_count": 18,
      "outputs": [
        {
          "output_type": "stream",
          "name": "stdout",
          "text": [
            "Accuracy: 0.547500\n",
            "Precision: 0.576000\n",
            "Recall: 0.360000\n",
            "F1 score: 0.443077\n"
          ]
        }
      ]
    },
    {
      "cell_type": "markdown",
      "metadata": {
        "id": "FMdXR1iVPGtc"
      },
      "source": [
        "### Calculate Confusion Matrix"
      ]
    },
    {
      "cell_type": "code",
      "metadata": {
        "colab": {
          "base_uri": "https://localhost:8080/",
          "height": 112
        },
        "id": "uUvwnBxYPTqe",
        "outputId": "10b4009a-8cbf-4e5d-f0a7-fdac8f735bbc"
      },
      "source": [
        "unique_label = np.unique([y_test, best_predictions])\n",
        "cmtx = pd.DataFrame(\n",
        "    confusion_matrix(y_test, best_predictions, labels=unique_label), \n",
        "    index=['true:{:}'.format(x) for x in unique_label], \n",
        "    columns=['pred:{:}'.format(x) for x in unique_label]\n",
        ")\n",
        "\n",
        "cmtx"
      ],
      "execution_count": 19,
      "outputs": [
        {
          "output_type": "execute_result",
          "data": {
            "text/html": [
              "<div>\n",
              "<style scoped>\n",
              "    .dataframe tbody tr th:only-of-type {\n",
              "        vertical-align: middle;\n",
              "    }\n",
              "\n",
              "    .dataframe tbody tr th {\n",
              "        vertical-align: top;\n",
              "    }\n",
              "\n",
              "    .dataframe thead th {\n",
              "        text-align: right;\n",
              "    }\n",
              "</style>\n",
              "<table border=\"1\" class=\"dataframe\">\n",
              "  <thead>\n",
              "    <tr style=\"text-align: right;\">\n",
              "      <th></th>\n",
              "      <th>pred:0</th>\n",
              "      <th>pred:1</th>\n",
              "    </tr>\n",
              "  </thead>\n",
              "  <tbody>\n",
              "    <tr>\n",
              "      <th>true:0</th>\n",
              "      <td>147</td>\n",
              "      <td>53</td>\n",
              "    </tr>\n",
              "    <tr>\n",
              "      <th>true:1</th>\n",
              "      <td>128</td>\n",
              "      <td>72</td>\n",
              "    </tr>\n",
              "  </tbody>\n",
              "</table>\n",
              "</div>"
            ],
            "text/plain": [
              "        pred:0  pred:1\n",
              "true:0     147      53\n",
              "true:1     128      72"
            ]
          },
          "metadata": {},
          "execution_count": 19
        }
      ]
    },
    {
      "cell_type": "markdown",
      "metadata": {
        "id": "luS0EkXfRE09"
      },
      "source": [
        "### Calculate ROC"
      ]
    },
    {
      "cell_type": "code",
      "metadata": {
        "id": "gWizH5VlRG2L"
      },
      "source": [
        "fpr, tpr, thresholds = roc_curve(y_test, best_output_probs)\n",
        "auc = roc_auc_score(y_test, best_output_probs)"
      ],
      "execution_count": 20,
      "outputs": []
    },
    {
      "cell_type": "code",
      "metadata": {
        "colab": {
          "base_uri": "https://localhost:8080/",
          "height": 531
        },
        "id": "JBuDEEOZTlEE",
        "outputId": "1b017689-3cc1-4a59-ae8e-37ae68576ec8"
      },
      "source": [
        "plt.figure(figsize=(8,8))\n",
        "plt.plot(fpr, tpr, label='AUC score is: '+str(round(auc, 4)))\n",
        "plt.title('ROC Curve')\n",
        "plt.xlabel('False Positive Rate')\n",
        "plt.ylabel('True Positive Rate')\n",
        "plt.legend()"
      ],
      "execution_count": 21,
      "outputs": [
        {
          "output_type": "execute_result",
          "data": {
            "text/plain": [
              "<matplotlib.legend.Legend at 0x7fcb600a1f10>"
            ]
          },
          "metadata": {},
          "execution_count": 21
        },
        {
          "output_type": "display_data",
          "data": {
            "image/png": "[encoded data removed]",
            "text/plain": [
              "<Figure size 576x576 with 1 Axes>"
            ]
          },
          "metadata": {
            "needs_background": "light"
          }
        }
      ]
    },
    {
      "cell_type": "code",
      "metadata": {
        "colab": {
          "base_uri": "https://localhost:8080/"
        },
        "id": "EUCMNKW-TpoB",
        "outputId": "4a0c8d2b-6235-48d0-a6f4-f1d158612d01"
      },
      "source": [
        "auc"
      ],
      "execution_count": 22,
      "outputs": [
        {
          "output_type": "execute_result",
          "data": {
            "text/plain": [
              "0.5713250000000001"
            ]
          },
          "metadata": {},
          "execution_count": 22
        }
      ]
    },
    {
      "cell_type": "code",
      "metadata": {
        "id": "4IilUrKkUKb9"
      },
      "source": [
        ""
      ],
      "execution_count": 22,
      "outputs": []
    }
  ]
}